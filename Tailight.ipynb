{
 "cells": [
  {
   "cell_type": "code",
   "execution_count": null,
   "id": "f1ebb337-5bec-46f0-a80b-8b8d7a00e1fc",
   "metadata": {
    "tags": []
   },
   "outputs": [],
   "source": [
    "import pandas as pd\n",
    "\n",
    "# Define columns for the DataFrame\n",
    "columns = ['MAKE', 'MODEL', 'S_YEAR', 'E_YEAR', 'VENDOR', 'VENDOR NOTES', 'AD ITEM', 'NI#', 'OEM']\n",
    "\n",
    "# Create an empty DataFrame with defined columns\n",
    "df = pd.DataFrame(columns = columns)\n",
    "\n",
    "print(df)"
   ]
  },
  {
   "cell_type": "code",
   "execution_count": null,
   "id": "08cfe385-05d1-40df-aa0b-f72be122c887",
   "metadata": {
    "tags": []
   },
   "outputs": [],
   "source": [
    "import pandas as pd\n",
    "\n",
    "# Define columns for the DataFrame\n",
    "columns = ['MAKE', 'MODEL', 'YEAR', 'VENDOR', 'VENDOR NOTES', 'AD ITEM', 'NI#', 'OEM']\n",
    "\n",
    "# Create an empty DataFrame with defined columns\n",
    "df = pd.DataFrame(columns=columns)\n",
    "\n",
    "# Sample data to add for KITTY\n",
    "data_kitty = {\n",
    "    'MAKE': 'ARCTIC CAT',\n",
    "    'MODEL': '400 ALL OPTIONS',\n",
    "    'VENDOR NOTES': 'ASSEMBLY',\n",
    "    'AD ITEM': pd.NA,\n",
    "    'MPN#': 'SM-01218',\n",
    "    'OEM': '0509-025'\n",
    "}\n",
    "\n",
    "# Create a list to hold data dictionaries for each year\n",
    "data_list = []\n",
    "\n",
    "# Generate data for each year and add to the list\n",
    "for year in range(2006, 2014):\n",
    "    data_copy = data_kitty.copy()\n",
    "    data_copy['YEAR'] = year\n",
    "    data_list.append(data_copy)\n",
    "\n",
    "# Create DataFrame from the list of dictionaries\n",
    "df = pd.DataFrame(data_list)\n",
    "\n",
    "# Display the DataFrame\n",
    "print(df)\n"
   ]
  },
  {
   "cell_type": "markdown",
   "id": "ba3f3cd5-5cb6-44ae-ae49-d231ae3b4917",
   "metadata": {},
   "source": [
    "##ARRANGING THE COLUMNS##"
   ]
  },
  {
   "cell_type": "code",
   "execution_count": null,
   "id": "b7e5b734-b26a-4365-9ea1-8cf45c93c66b",
   "metadata": {
    "tags": []
   },
   "outputs": [],
   "source": [
    "import pandas as pd\n",
    "\n",
    "# Define columns for the DataFrame\n",
    "columns = ['MAKE', 'MODEL', 'YEAR', 'MPN#', 'OEM', 'AD ITEM', 'VENDOR NOTES']\n",
    "\n",
    "# Create an empty DataFrame with defined columns\n",
    "df = pd.DataFrame(columns=columns)\n",
    "\n",
    "# Sample data to add for KITTY\n",
    "data_kitty = {\n",
    "    'MAKE': 'ARCTIC CAT',\n",
    "    'MODEL': '400 ALL OPTIONS',\n",
    "    'YEAR': '',\n",
    "    'MPN#': 'SM-01218',\n",
    "    'OEM': '0509-025',\n",
    "    'AD ITEM': pd.NA,\n",
    "    'VENDOR NOTES': 'ASSEMBLY'\n",
    "}\n",
    "\n",
    "# Create a list to hold data dictionaries for each year\n",
    "data_list = []\n",
    "\n",
    "# Generate data for each year and add to the list\n",
    "for year in range(2006, 2014):\n",
    "    data_copy = data_kitty.copy()\n",
    "    data_copy['YEAR'] = year\n",
    "    data_list.append(data_copy)\n",
    "\n",
    "# Create DataFrame from the list of dictionaries\n",
    "df = pd.DataFrame(data_list)\n",
    "\n",
    "# Display the DataFrame\n",
    "print(df)\n"
   ]
  },
  {
   "cell_type": "code",
   "execution_count": null,
   "id": "9f5a88da-b2f5-4632-af84-b3b656951f44",
   "metadata": {
    "tags": []
   },
   "outputs": [],
   "source": [
    "file_path = r\"C:\\Users\\User\\Desktop\\nachmann\\2024 TASK\\SECTION 01\\Taillight\\MERGE\\r94_0613.csv\"\n",
    "df.to_csv(file_path, index=False)"
   ]
  },
  {
   "cell_type": "code",
   "execution_count": null,
   "id": "9f736e37-6747-448b-8850-e38d3c91e16c",
   "metadata": {
    "tags": []
   },
   "outputs": [],
   "source": [
    "import pandas as pd\n",
    "\n",
    "# Define columns for the DataFrame\n",
    "columns = ['MAKE', 'MODEL', 'YEAR', 'MPN#', 'OEM', 'AD ITEM', 'VENDOR NOTES']\n",
    "\n",
    "# Create an empty DataFrame with defined columns\n",
    "df = pd.DataFrame(columns=columns)\n",
    "\n",
    "# Sample data to add for KITTY\n",
    "data_kitty = {\n",
    "    'MAKE': 'ARCTIC CAT',\n",
    "    'MODEL': '450 H1, GT, TRV, TRV GT',\n",
    "    'YEAR': '',\n",
    "    'MPN#': 'SM-01218',\n",
    "    'OEM': '0509-025',\n",
    "    'AD ITEM': pd.NA,\n",
    "    'VENDOR NOTES': 'ASSEMBLY'\n",
    "}\n",
    "\n",
    "# Create a list to hold data dictionaries for each year\n",
    "data_list = []\n",
    "\n",
    "# Generate data for each year and add to the list\n",
    "for year in range(2011, 2013):\n",
    "    data_copy = data_kitty.copy()\n",
    "    data_copy['YEAR'] = year\n",
    "    data_list.append(data_copy)\n",
    "\n",
    "# Create DataFrame from the list of dictionaries\n",
    "df = pd.DataFrame(data_list)\n",
    "\n",
    "# Display the DataFrame\n",
    "print(df)\n"
   ]
  },
  {
   "cell_type": "code",
   "execution_count": null,
   "id": "4eeb62a6-ac64-41a8-9652-bd517de96e28",
   "metadata": {
    "tags": []
   },
   "outputs": [],
   "source": [
    "file_path = r\"C:\\Users\\User\\Desktop\\nachmann\\2024 TASK\\SECTION 01\\Taillight\\MERGE\\r95_1113.csv\"\n",
    "df.to_csv(file_path, index=False)"
   ]
  },
  {
   "cell_type": "code",
   "execution_count": null,
   "id": "5e281fe9-f482-43c9-8046-3fb1b021188c",
   "metadata": {
    "tags": []
   },
   "outputs": [],
   "source": [
    "import pandas as pd\n",
    "\n",
    "# Define columns for the DataFrame\n",
    "columns = ['MAKE', 'MODEL', 'YEAR', 'MPN#', 'OEM', 'AD ITEM', 'VENDOR NOTES']\n",
    "\n",
    "# Create an empty DataFrame with defined columns\n",
    "df = pd.DataFrame(columns=columns)\n",
    "\n",
    "# Sample data to add for KITTY\n",
    "data_kitty = {\n",
    "    'MAKE': 'ARCTIC CAT',\n",
    "    'MODEL': ' 500 ATV',\n",
    "    'YEAR': '',\n",
    "    'MPN#': 'SM-01218',\n",
    "    'OEM': '0509-025',\n",
    "    'AD ITEM': pd.NA,\n",
    "    'VENDOR NOTES': 'ASSEMBLY'\n",
    "}\n",
    "\n",
    "# Create a list to hold data dictionaries for each year\n",
    "data_list = []\n",
    "\n",
    "# Generate data for each year and add to the list\n",
    "for year in range(2013, 2016):\n",
    "    data_copy = data_kitty.copy()\n",
    "    data_copy['YEAR'] = year\n",
    "    data_list.append(data_copy)\n",
    "\n",
    "# Create DataFrame from the list of dictionaries\n",
    "df = pd.DataFrame(data_list)\n",
    "\n",
    "# Display the DataFrame\n",
    "print(df)\n"
   ]
  },
  {
   "cell_type": "code",
   "execution_count": null,
   "id": "a223eff7-86e7-4085-8cb1-35157c09ed0b",
   "metadata": {
    "tags": []
   },
   "outputs": [],
   "source": [
    "file_path = r\"C:\\Users\\User\\Desktop\\nachmann\\2024 TASK\\SECTION 01\\Taillight\\MERGE\\r96_1316.csv\"\n",
    "df.to_csv(file_path, index=False)"
   ]
  },
  {
   "cell_type": "code",
   "execution_count": null,
   "id": "d7fbcaf8-adf9-4067-921f-693a4727f420",
   "metadata": {
    "tags": []
   },
   "outputs": [],
   "source": [
    "import pandas as pd\n",
    "\n",
    "# Define columns for the DataFrame\n",
    "columns = ['MAKE', 'MODEL', 'YEAR', 'MPN#', 'OEM', 'AD ITEM', 'VENDOR NOTES']\n",
    "\n",
    "# Create an empty DataFrame with defined columns\n",
    "df = pd.DataFrame(columns=columns)\n",
    "\n",
    "# Sample data to add for KITTY\n",
    "data_kitty = {\n",
    "    'MAKE': 'ARCTIC CAT',\n",
    "    'MODEL': '500 AUTO. TRANS. 4X4 FIS (ALL OPTIONS)',\n",
    "    'YEAR': '',\n",
    "    'MPN#': 'SM-01218',\n",
    "    'OEM': '0509-025',\n",
    "    'AD ITEM': pd.NA,\n",
    "    'VENDOR NOTES': 'ASSEMBLY'\n",
    "}\n",
    "\n",
    "# Create a list to hold data dictionaries for each year\n",
    "data_list = []\n",
    "\n",
    "# Generate data for each year and add to the list\n",
    "for year in range(2005, 2010):\n",
    "    data_copy = data_kitty.copy()\n",
    "    data_copy['YEAR'] = year\n",
    "    data_list.append(data_copy)\n",
    "\n",
    "# Create DataFrame from the list of dictionaries\n",
    "df = pd.DataFrame(data_list)\n",
    "\n",
    "# Display the DataFrame\n",
    "print(df)\n"
   ]
  },
  {
   "cell_type": "code",
   "execution_count": null,
   "id": "36a6270b-62b5-4316-8659-69cb4cc15163",
   "metadata": {
    "tags": []
   },
   "outputs": [],
   "source": [
    "file_path = r\"C:\\Users\\User\\Desktop\\nachmann\\2024 TASK\\SECTION 01\\Taillight\\MERGE\\r97_0510.csv\"\n",
    "df.to_csv(file_path, index=False)"
   ]
  },
  {
   "cell_type": "code",
   "execution_count": null,
   "id": "f222d823-fbe4-42de-950e-25ee0ed6e767",
   "metadata": {
    "tags": []
   },
   "outputs": [],
   "source": [
    "import pandas as pd\n",
    "\n",
    "# Define columns for the DataFrame\n",
    "columns = ['MAKE', 'MODEL', 'YEAR', 'MPN#', 'OEM', 'AD ITEM', 'VENDOR NOTES']\n",
    "\n",
    "# Create an empty DataFrame with defined columns\n",
    "df = pd.DataFrame(columns=columns)\n",
    "\n",
    "# Sample data to add for KITTY\n",
    "data_kitty = {\n",
    "    'MAKE': 'ARCTIC CAT',\n",
    "    'MODEL': '550 (ALL OPTIONS)',\n",
    "    'YEAR': '',\n",
    "    'MPN#': 'SM-01218',\n",
    "    'OEM': '0509-025',\n",
    "    'AD ITEM': pd.NA,\n",
    "    'VENDOR NOTES': 'ASSEMBLY'\n",
    "}\n",
    "\n",
    "# Create a list to hold data dictionaries for each year\n",
    "data_list = []\n",
    "\n",
    "# Generate data for each year and add to the list\n",
    "for year in range(2009, 2014):\n",
    "    data_copy = data_kitty.copy()\n",
    "    data_copy['YEAR'] = year\n",
    "    data_list.append(data_copy)\n",
    "\n",
    "# Create DataFrame from the list of dictionaries\n",
    "df = pd.DataFrame(data_list)\n",
    "\n",
    "# Display the DataFrame\n",
    "print(df)\n"
   ]
  },
  {
   "cell_type": "code",
   "execution_count": null,
   "id": "6a949d3a-4164-4ccb-a824-2661add53118",
   "metadata": {
    "tags": []
   },
   "outputs": [],
   "source": [
    "file_path = r\"C:\\Users\\User\\Desktop\\nachmann\\2024 TASK\\SECTION 01\\Taillight\\MERGE\\r98_0914.csv\"\n",
    "df.to_csv(file_path, index=False)"
   ]
  },
  {
   "cell_type": "code",
   "execution_count": null,
   "id": "2e3be537-3d21-418f-8025-565c650adc90",
   "metadata": {
    "tags": []
   },
   "outputs": [],
   "source": [
    "import pandas as pd\n",
    "\n",
    "# Define columns for the DataFrame\n",
    "columns = ['MAKE', 'MODEL', 'YEAR', 'MPN#', 'OEM', 'AD ITEM', 'VENDOR NOTES']\n",
    "\n",
    "# Create an empty DataFrame with defined columns\n",
    "df = pd.DataFrame(columns=columns)\n",
    "\n",
    "# Sample data to add for KITTY\n",
    "data_kitty = {\n",
    "    'MAKE': 'ARCTIC CAT',\n",
    "    'MODEL': '650 H1 AUTO.TRANS.4X4,TBX,TRV,MUD PRO ALL',\n",
    "    'YEAR': '',\n",
    "    'MPN#': 'SM-01218',\n",
    "    'OEM': '0509-025',\n",
    "    'AD ITEM': pd.NA,\n",
    "    'VENDOR NOTES': 'ASSEMBLY'\n",
    "}\n",
    "\n",
    "# Create a list to hold data dictionaries for each year\n",
    "data_list = []\n",
    "\n",
    "# Generate data for each year and add to the list\n",
    "for year in range(2005, 2011):\n",
    "    data_copy = data_kitty.copy()\n",
    "    data_copy['YEAR'] = year\n",
    "    data_list.append(data_copy)\n",
    "\n",
    "# Create DataFrame from the list of dictionaries\n",
    "df = pd.DataFrame(data_list)\n",
    "\n",
    "# Display the DataFrame\n",
    "print(df)\n"
   ]
  },
  {
   "cell_type": "code",
   "execution_count": null,
   "id": "7a0ae82d-7a7b-428c-8721-e64d82620dd7",
   "metadata": {
    "tags": []
   },
   "outputs": [],
   "source": [
    "file_path = r\"C:\\Users\\User\\Desktop\\nachmann\\2024 TASK\\SECTION 01\\Taillight\\MERGE\\r99_0511.csv\"\n",
    "df.to_csv(file_path, index=False)"
   ]
  },
  {
   "cell_type": "code",
   "execution_count": null,
   "id": "fedbe66b-5574-415f-9b0b-0e7d18db1ff2",
   "metadata": {
    "tags": []
   },
   "outputs": [],
   "source": [
    "import pandas as pd\n",
    "\n",
    "# Define columns for the DataFrame\n",
    "columns = ['MAKE', 'MODEL', 'YEAR', 'MPN#', 'OEM', 'AD ITEM', 'VENDOR NOTES']\n",
    "\n",
    "# Create an empty DataFrame with defined columns\n",
    "df = pd.DataFrame(columns=columns)\n",
    "\n",
    "# Sample data to add for KITTY\n",
    "data_kitty = {\n",
    "    'MAKE': 'ARCTIC CAT',\n",
    "    'MODEL': '700 ALL OPTIONS',\n",
    "    'YEAR': '',\n",
    "    'MPN#': 'SM-01218',\n",
    "    'OEM': '0509-025',\n",
    "    'AD ITEM': pd.NA,\n",
    "    'VENDOR NOTES': 'ASSEMBLY'\n",
    "}\n",
    "\n",
    "# Create a list to hold data dictionaries for each year\n",
    "data_list = []\n",
    "\n",
    "# Generate data for each year and add to the list\n",
    "for year in range(2006, 2015):\n",
    "    data_copy = data_kitty.copy()\n",
    "    data_copy['YEAR'] = year\n",
    "    data_list.append(data_copy)\n",
    "\n",
    "# Create DataFrame from the list of dictionaries\n",
    "df = pd.DataFrame(data_list)\n",
    "\n",
    "# Display the DataFrame\n",
    "print(df)\n"
   ]
  },
  {
   "cell_type": "code",
   "execution_count": null,
   "id": "6686a950-a14f-4894-9c45-6545aa722105",
   "metadata": {
    "tags": []
   },
   "outputs": [],
   "source": [
    "file_path = r\"C:\\Users\\User\\Desktop\\nachmann\\2024 TASK\\SECTION 01\\Taillight\\MERGE\\r100_0615.csv\"\n",
    "df.to_csv(file_path, index=False)"
   ]
  },
  {
   "cell_type": "code",
   "execution_count": null,
   "id": "0cd1bed0-04b3-4f17-88cb-b6f9cf2e9645",
   "metadata": {
    "tags": []
   },
   "outputs": [],
   "source": [
    "import pandas as pd\n",
    "\n",
    "# Define columns for the DataFrame\n",
    "columns = ['MAKE', 'MODEL', 'YEAR', 'MPN#', 'OEM', 'AD ITEM', 'VENDOR NOTES']\n",
    "\n",
    "# Create an empty DataFrame with defined columns\n",
    "df = pd.DataFrame(columns=columns)\n",
    "\n",
    "# Sample data to add for KITTY\n",
    "data_kitty = {\n",
    "    'MAKE': 'ARCTIC CAT',\n",
    "    'MODEL': 'TBX/VLX 700',\n",
    "    'YEAR': '',\n",
    "    'MPN#': 'SM-01218',\n",
    "    'OEM': '0509-025',\n",
    "    'AD ITEM': pd.NA,\n",
    "    'VENDOR NOTES': 'ASSEMBLY'\n",
    "}\n",
    "\n",
    "# Create a list to hold data dictionaries for each year\n",
    "data_list = []\n",
    "\n",
    "# Generate data for each year and add to the list\n",
    "for year in range(2015, 2019):\n",
    "    data_copy = data_kitty.copy()\n",
    "    data_copy['YEAR'] = year\n",
    "    data_list.append(data_copy)\n",
    "\n",
    "# Create DataFrame from the list of dictionaries\n",
    "df = pd.DataFrame(data_list)\n",
    "\n",
    "# Display the DataFrame\n",
    "print(df)\n"
   ]
  },
  {
   "cell_type": "code",
   "execution_count": null,
   "id": "d5bddb20-efae-4842-aa90-d662698aa8f6",
   "metadata": {
    "tags": []
   },
   "outputs": [],
   "source": [
    "file_path = r\"C:\\Users\\User\\Desktop\\nachmann\\2024 TASK\\SECTION 01\\Taillight\\MERGE\\r101_1519.csv\"\n",
    "df.to_csv(file_path, index=False)"
   ]
  },
  {
   "cell_type": "code",
   "execution_count": null,
   "id": "e3102765-fe84-47c0-b69f-5bb77220c194",
   "metadata": {
    "tags": []
   },
   "outputs": [],
   "source": [
    "import pandas as pd\n",
    "\n",
    "# Define columns for the DataFrame\n",
    "columns = ['MAKE', 'MODEL', 'YEAR', 'MPN#', 'OEM', 'AD ITEM', 'VENDOR NOTES']\n",
    "\n",
    "# Create an empty DataFrame with defined columns\n",
    "df = pd.DataFrame(columns=columns)\n",
    "\n",
    "# Sample data to add for KITTY\n",
    "data_kitty = {\n",
    "    'MAKE': 'ARCTIC CAT',\n",
    "    'MODEL': 'ALTERRA 700 MUD PRO LTD',\n",
    "    'YEAR': '',\n",
    "    'MPN#': 'SM-01218',\n",
    "    'OEM': '0509-025',\n",
    "    'AD ITEM': pd.NA,\n",
    "    'VENDOR NOTES': 'ASSEMBLY'\n",
    "}\n",
    "\n",
    "# Create a list to hold data dictionaries for each year\n",
    "data_list = []\n",
    "\n",
    "# Generate data for each year and add to the list\n",
    "for year in range(2019, 2020):\n",
    "    data_copy = data_kitty.copy()\n",
    "    data_copy['YEAR'] = year\n",
    "    data_list.append(data_copy)\n",
    "\n",
    "# Create DataFrame from the list of dictionaries\n",
    "df = pd.DataFrame(data_list)\n",
    "\n",
    "# Display the DataFrame\n",
    "print(df)\n"
   ]
  },
  {
   "cell_type": "code",
   "execution_count": null,
   "id": "5a6a9072-6242-4405-96cd-53ed2a53390f",
   "metadata": {
    "tags": []
   },
   "outputs": [],
   "source": [
    "file_path = r\"C:\\Users\\User\\Desktop\\nachmann\\2024 TASK\\SECTION 01\\Taillight\\MERGE\\r102_19.csv\"\n",
    "df.to_csv(file_path, index=False)"
   ]
  },
  {
   "cell_type": "code",
   "execution_count": null,
   "id": "3fb2c57a-31c7-464c-ab3c-7d8f28733d98",
   "metadata": {
    "tags": []
   },
   "outputs": [],
   "source": [
    "import pandas as pd\n",
    "\n",
    "# Define columns for the DataFrame\n",
    "columns = ['MAKE', 'MODEL', 'YEAR', 'MPN#', 'OEM', 'AD ITEM', 'VENDOR NOTES']\n",
    "\n",
    "# Create an empty DataFrame with defined columns\n",
    "df = pd.DataFrame(columns=columns)\n",
    "\n",
    "# Sample data to add for KITTY\n",
    "data_kitty = {\n",
    "    'MAKE': 'ARCTIC CAT',\n",
    "    'MODEL': '1000 TRV, XT, MUDPRO',\n",
    "    'YEAR': '',\n",
    "    'MPN#': 'SM-01218',\n",
    "    'OEM': '0509-025',\n",
    "    'AD ITEM': pd.NA,\n",
    "    'VENDOR NOTES': 'ASSEMBLY'\n",
    "}\n",
    "\n",
    "# Create a list to hold data dictionaries for each year\n",
    "data_list = []\n",
    "\n",
    "# Generate data for each year and add to the list\n",
    "for year in range(2009, 2015):\n",
    "    data_copy = data_kitty.copy()\n",
    "    data_copy['YEAR'] = year\n",
    "    data_list.append(data_copy)\n",
    "\n",
    "# Create DataFrame from the list of dictionaries\n",
    "df = pd.DataFrame(data_list)\n",
    "\n",
    "# Display the DataFrame\n",
    "df\n"
   ]
  },
  {
   "cell_type": "code",
   "execution_count": null,
   "id": "0af0792e-a8ee-4e29-8dab-3ef46924fe07",
   "metadata": {
    "tags": []
   },
   "outputs": [],
   "source": [
    "file_path = r\"C:\\Users\\User\\Desktop\\nachmann\\2024 TASK\\SECTION 01\\Taillight\\MERGE\\r103_915.csv\"\n",
    "df.to_csv(file_path, index=False)"
   ]
  },
  {
   "cell_type": "code",
   "execution_count": null,
   "id": "739aa7da-2c30-4788-8396-4a3cf7603205",
   "metadata": {
    "tags": []
   },
   "outputs": [],
   "source": [
    "import pandas as pd\n",
    "\n",
    "# Define columns for the DataFrame\n",
    "columns = ['MAKE', 'MODEL', 'YEAR', 'MPN#', 'OEM', 'AD ITEM', 'VENDOR NOTES']\n",
    "\n",
    "# Create an empty DataFrame with defined columns\n",
    "df = pd.DataFrame(columns=columns)\n",
    "\n",
    "# Sample data to add for KITTY\n",
    "data_kitty = {\n",
    "    'MAKE': 'ARCTIC CAT',\n",
    "    'MODEL': 'THUNDERCAT ALL',\n",
    "    'YEAR': '',\n",
    "    'MPN#': 'SM-01218',\n",
    "    'OEM': '0509-025',\n",
    "    'AD ITEM': pd.NA,\n",
    "    'VENDOR NOTES': 'ASSEMBLY'\n",
    "}\n",
    "\n",
    "# Create a list to hold data dictionaries for each year\n",
    "data_list = []\n",
    "\n",
    "# Generate data for each year and add to the list\n",
    "for year in range(2008, 2010):\n",
    "    data_copy = data_kitty.copy()\n",
    "    data_copy['YEAR'] = year\n",
    "    data_list.append(data_copy)\n",
    "\n",
    "# Create DataFrame from the list of dictionaries\n",
    "df = pd.DataFrame(data_list)\n",
    "\n",
    "# Display the DataFrame\n",
    "df\n"
   ]
  },
  {
   "cell_type": "code",
   "execution_count": null,
   "id": "2a95c1cb-1879-4098-b4e0-8a5896e28319",
   "metadata": {
    "tags": []
   },
   "outputs": [],
   "source": [
    "file_path = r\"C:\\Users\\User\\Desktop\\nachmann\\2024 TASK\\SECTION 01\\Taillight\\MERGE\\r104_89.csv\"\n",
    "df.to_csv(file_path, index=False)"
   ]
  },
  {
   "cell_type": "code",
   "execution_count": null,
   "id": "b5c3001f-1be4-46e2-bbe1-4e731f5622d9",
   "metadata": {
    "tags": []
   },
   "outputs": [],
   "source": [
    "import pandas as pd\n",
    "\n",
    "# Define columns for the DataFrame\n",
    "columns = ['MAKE', 'MODEL', 'YEAR', 'MPN#', 'OEM', 'AD ITEM', 'VENDOR NOTES']\n",
    "\n",
    "# Create an empty DataFrame with defined columns\n",
    "df = pd.DataFrame(columns=columns)\n",
    "\n",
    "# Sample data to add for KITTY\n",
    "data_kitty = {\n",
    "    'MAKE': 'UTV',\n",
    "    'MODEL': 'PROWLER 550',\n",
    "    'YEAR': '',\n",
    "    'MPN#': 'SM-01218',\n",
    "    'OEM': '0509-025',\n",
    "    'AD ITEM': pd.NA,\n",
    "    'VENDOR NOTES': 'ASSEMBLY'\n",
    "}\n",
    "\n",
    "# Create a list to hold data dictionaries for each year\n",
    "data_list = []\n",
    "\n",
    "# Generate data for each year and add to the list\n",
    "for year in range(2009, 2014):\n",
    "    data_copy = data_kitty.copy()\n",
    "    data_copy['YEAR'] = year\n",
    "    data_list.append(data_copy)\n",
    "\n",
    "# Create DataFrame from the list of dictionaries\n",
    "df = pd.DataFrame(data_list)\n",
    "\n",
    "# Display the DataFrame\n",
    "df\n"
   ]
  },
  {
   "cell_type": "code",
   "execution_count": null,
   "id": "566d5204-e1b5-4860-9a9b-ac615f4e893f",
   "metadata": {
    "tags": []
   },
   "outputs": [],
   "source": [
    "file_path = r\"C:\\Users\\User\\Desktop\\nachmann\\2024 TASK\\SECTION 01\\Taillight\\MERGE\\r106_914.csv\"\n",
    "df.to_csv(file_path, index=False)"
   ]
  },
  {
   "cell_type": "code",
   "execution_count": null,
   "id": "f20f8221-e8db-42f7-8eff-460f0ec88d48",
   "metadata": {
    "tags": []
   },
   "outputs": [],
   "source": [
    "import pandas as pd\n",
    "\n",
    "# Define columns for the DataFrame\n",
    "columns = ['MAKE', 'MODEL', 'YEAR', 'MPN#', 'OEM', 'AD ITEM', 'VENDOR NOTES']\n",
    "\n",
    "# Create an empty DataFrame with defined columns\n",
    "df = pd.DataFrame(columns=columns)\n",
    "\n",
    "# Sample data to add for KITTY\n",
    "data_kitty = {\n",
    "    'MAKE': 'UTV',\n",
    "    'MODEL': 'PROWLER XT 650 H1 AUTO. 4X4',\n",
    "    'YEAR': '',\n",
    "    'MPN#': 'SM-01218',\n",
    "    'OEM': '0509-025',\n",
    "    'AD ITEM': pd.NA,\n",
    "    'VENDOR NOTES': 'ASSEMBLY'\n",
    "}\n",
    "\n",
    "# Create a list to hold data dictionaries for each year\n",
    "data_list = []\n",
    "\n",
    "# Generate data for each year and add to the list\n",
    "for year in range(2006, 2010):\n",
    "    data_copy = data_kitty.copy()\n",
    "    data_copy['YEAR'] = year\n",
    "    data_list.append(data_copy)\n",
    "\n",
    "# Create DataFrame from the list of dictionaries\n",
    "df = pd.DataFrame(data_list)\n",
    "\n",
    "# Display the DataFrame\n",
    "df\n"
   ]
  },
  {
   "cell_type": "code",
   "execution_count": null,
   "id": "b1a2a7d8-e76d-48a9-9629-73c88003558f",
   "metadata": {
    "tags": []
   },
   "outputs": [],
   "source": [
    "file_path = r\"C:\\Users\\User\\Desktop\\nachmann\\2024 TASK\\SECTION 01\\Taillight\\MERGE\\r107_69.csv\"\n",
    "df.to_csv(file_path, index=False)"
   ]
  },
  {
   "cell_type": "code",
   "execution_count": null,
   "id": "738a5d0e-b9cb-4829-a407-3a3655c9803c",
   "metadata": {
    "tags": []
   },
   "outputs": [],
   "source": [
    "import pandas as pd\n",
    "\n",
    "# Define columns for the DataFrame\n",
    "columns = ['MAKE', 'MODEL', 'YEAR', 'MPN#', 'OEM', 'AD ITEM', 'VENDOR NOTES']\n",
    "\n",
    "# Create an empty DataFrame with defined columns\n",
    "df = pd.DataFrame(columns=columns)\n",
    "\n",
    "# Sample data to add for KITTY\n",
    "data_kitty = {\n",
    "    'MAKE': 'UTV',\n",
    "    'MODEL': 'PROWLER 700 XT 4X4 ALL',\n",
    "    'YEAR': '',\n",
    "    'MPN#': 'SM-01218',\n",
    "    'OEM': '0509-025',\n",
    "    'AD ITEM': pd.NA,\n",
    "    'VENDOR NOTES': 'ASSEMBLY'\n",
    "}\n",
    "\n",
    "# Create a list to hold data dictionaries for each year\n",
    "data_list = []\n",
    "\n",
    "# Generate data for each year and add to the list\n",
    "for year in range(2009, 2014):\n",
    "    data_copy = data_kitty.copy()\n",
    "    data_copy['YEAR'] = year\n",
    "    data_list.append(data_copy)\n",
    "\n",
    "# Create DataFrame from the list of dictionaries\n",
    "df = pd.DataFrame(data_list)\n",
    "\n",
    "# Display the DataFrame\n",
    "df\n"
   ]
  },
  {
   "cell_type": "code",
   "execution_count": null,
   "id": "8a374da5-c294-4534-bdd4-6ecc602216de",
   "metadata": {
    "tags": []
   },
   "outputs": [],
   "source": [
    "file_path = r\"C:\\Users\\User\\Desktop\\nachmann\\2024 TASK\\SECTION 01\\Taillight\\MERGE\\r108_914.csv\"\n",
    "df.to_csv(file_path, index=False)"
   ]
  },
  {
   "cell_type": "code",
   "execution_count": null,
   "id": "9fd8c705-df7a-4705-bfc7-d957b942ad10",
   "metadata": {
    "tags": []
   },
   "outputs": [],
   "source": [
    "import pandas as pd\n",
    "\n",
    "# Define columns for the DataFrame\n",
    "columns = ['MAKE', 'MODEL', 'YEAR', 'MPN#', 'OEM', 'AD ITEM', 'VENDOR NOTES']\n",
    "\n",
    "# Create an empty DataFrame with defined columns\n",
    "df = pd.DataFrame(columns=columns)\n",
    "\n",
    "# Sample data to add for KITTY\n",
    "data_kitty = {\n",
    "    'MAKE': 'UTV',\n",
    "    'MODEL': 'PROWLER 1000 XT/XTZ ',\n",
    "    'YEAR': '',\n",
    "    'MPN#': 'SM-01218',\n",
    "    'OEM': '0509-025',\n",
    "    'AD ITEM': pd.NA,\n",
    "    'VENDOR NOTES': 'ASSEMBLY'\n",
    "}\n",
    "\n",
    "# Create a list to hold data dictionaries for each year\n",
    "data_list = []\n",
    "\n",
    "# Generate data for each year and add to the list\n",
    "for year in range(2009, 2014):\n",
    "    data_copy = data_kitty.copy()\n",
    "    data_copy['YEAR'] = year\n",
    "    data_list.append(data_copy)\n",
    "\n",
    "# Create DataFrame from the list of dictionaries\n",
    "df = pd.DataFrame(data_list)\n",
    "\n",
    "# Display the DataFrame\n",
    "df\n"
   ]
  },
  {
   "cell_type": "code",
   "execution_count": null,
   "id": "6537dc76-f71f-49dd-a19b-a33852939796",
   "metadata": {
    "tags": []
   },
   "outputs": [],
   "source": [
    "file_path = r\"C:\\Users\\User\\Desktop\\nachmann\\2024 TASK\\SECTION 01\\Taillight\\MERGE\\r109_914.csv\"\n",
    "df.to_csv(file_path, index=False)"
   ]
  },
  {
   "cell_type": "code",
   "execution_count": null,
   "id": "7499487a-f366-49bd-991f-5a0ee3af72ea",
   "metadata": {
    "tags": []
   },
   "outputs": [],
   "source": [
    "import pandas as pd\n",
    "\n",
    "# Define columns for the DataFrame\n",
    "columns = ['MAKE', 'MODEL', 'YEAR', 'MPN#', 'OEM', 'AD ITEM', 'VENDOR NOTES']\n",
    "\n",
    "# Create an empty DataFrame with defined columns\n",
    "df = pd.DataFrame(columns=columns)\n",
    "\n",
    "# Sample data to add for KITTY\n",
    "data_kitty = {\n",
    "    'MAKE': 'HONDA',\n",
    "    'MODEL': 'ATC200S ',\n",
    "    'YEAR': '',\n",
    "    'MPN#': 'AT-01009',\n",
    "    'OEM': '33700-965-003',\n",
    "    'AD ITEM': pd.NA,\n",
    "    'VENDOR NOTES': 'ASSEMBLY'\n",
    "}\n",
    "\n",
    "# Create a list to hold data dictionaries for each year\n",
    "data_list = []\n",
    "\n",
    "# Generate data for each year and add to the list\n",
    "for year in range(1984, 1987):\n",
    "    data_copy = data_kitty.copy()\n",
    "    data_copy['YEAR'] = year\n",
    "    data_list.append(data_copy)\n",
    "\n",
    "# Create DataFrame from the list of dictionaries\n",
    "df = pd.DataFrame(data_list)\n",
    "\n",
    "# Display the DataFrame\n",
    "df\n"
   ]
  },
  {
   "cell_type": "code",
   "execution_count": null,
   "id": "c8cbd586-0005-4e3f-ad74-8e48b57b4c2e",
   "metadata": {
    "tags": []
   },
   "outputs": [],
   "source": [
    "file_path = r\"C:\\Users\\User\\Desktop\\nachmann\\2024 TASK\\SECTION 01\\Taillight\\MERGE\\r112_8486.csv\"\n",
    "df.to_csv(file_path, index=False)"
   ]
  },
  {
   "cell_type": "code",
   "execution_count": null,
   "id": "89054f82-8834-4d33-b2c2-7fb432187c4f",
   "metadata": {
    "tags": []
   },
   "outputs": [],
   "source": [
    "import pandas as pd\n",
    "\n",
    "# Define columns for the DataFrame\n",
    "columns = ['MAKE', 'MODEL', 'YEAR', 'MPN#', 'OEM', 'AD ITEM', 'VENDOR NOTES']\n",
    "\n",
    "# Create an empty DataFrame with defined columns\n",
    "df = pd.DataFrame(columns=columns)\n",
    "\n",
    "# Sample data to add for KITTY\n",
    "data_kitty = {\n",
    "    'MAKE': 'HONDA',\n",
    "    'MODEL': 'ATC200X/ATC250R ',\n",
    "    'YEAR': '',\n",
    "    'MPN#': 'AT-01009',\n",
    "    'OEM': '33700-965-003',\n",
    "    'AD ITEM': pd.NA,\n",
    "    'VENDOR NOTES': 'ASSEMBLY'\n",
    "}\n",
    "\n",
    "# Create a list to hold data dictionaries for each year\n",
    "data_list = []\n",
    "\n",
    "# Generate data for each year and add to the list\n",
    "for year in range(1983, 1987):\n",
    "    data_copy = data_kitty.copy()\n",
    "    data_copy['YEAR'] = year\n",
    "    data_list.append(data_copy)\n",
    "\n",
    "# Create DataFrame from the list of dictionaries\n",
    "df = pd.DataFrame(data_list)\n",
    "\n",
    "# Display the DataFrame\n",
    "df\n"
   ]
  },
  {
   "cell_type": "code",
   "execution_count": null,
   "id": "93e69fcd-ee8c-49d9-ae3a-debbaeeb5253",
   "metadata": {
    "tags": []
   },
   "outputs": [],
   "source": [
    "file_path = r\"C:\\Users\\User\\Desktop\\nachmann\\2024 TASK\\SECTION 01\\Taillight\\MERGE\\r113_8386.csv\"\n",
    "df.to_csv(file_path, index=False)"
   ]
  },
  {
   "cell_type": "code",
   "execution_count": null,
   "id": "9c56b4e9-196d-406a-b96c-1cadf4870ef2",
   "metadata": {
    "tags": []
   },
   "outputs": [],
   "source": [
    "import pandas as pd\n",
    "\n",
    "# Define columns for the DataFrame\n",
    "columns = ['MAKE', 'MODEL', 'YEAR', 'MPN#', 'OEM', 'AD ITEM', 'VENDOR NOTES']\n",
    "\n",
    "# Create an empty DataFrame with defined columns\n",
    "df = pd.DataFrame(columns=columns)\n",
    "\n",
    "# Sample data to add for KITTY\n",
    "data_kitty = {\n",
    "    'MAKE': 'HONDA',\n",
    "    'MODEL': 'TRX250R',\n",
    "    'YEAR': '',\n",
    "    'MPN#': 'AT-01009',\n",
    "    'OEM': '33700-965-003',\n",
    "    'AD ITEM': pd.NA,\n",
    "    'VENDOR NOTES': 'ASSEMBLY'\n",
    "}\n",
    "\n",
    "# Create a list to hold data dictionaries for each year\n",
    "data_list = []\n",
    "\n",
    "# Generate data for each year and add to the list\n",
    "for year in range(1986, 1990):\n",
    "    data_copy = data_kitty.copy()\n",
    "    data_copy['YEAR'] = year\n",
    "    data_list.append(data_copy)\n",
    "\n",
    "# Create DataFrame from the list of dictionaries\n",
    "df = pd.DataFrame(data_list)\n",
    "\n",
    "# Display the DataFrame\n",
    "df\n"
   ]
  },
  {
   "cell_type": "code",
   "execution_count": null,
   "id": "601f673e-603e-4ee6-836e-855732ad4045",
   "metadata": {
    "tags": []
   },
   "outputs": [],
   "source": [
    "file_path = r\"C:\\Users\\User\\Desktop\\nachmann\\2024 TASK\\SECTION 01\\Taillight\\MERGE\\r114_8690.csv\"\n",
    "df.to_csv(file_path, index=False)"
   ]
  },
  {
   "cell_type": "code",
   "execution_count": null,
   "id": "a47df2e8-8f48-477e-ae86-1d8c4c6ba0d5",
   "metadata": {
    "tags": []
   },
   "outputs": [],
   "source": [
    "import pandas as pd\n",
    "\n",
    "# Define columns for the DataFrame\n",
    "columns = ['MAKE', 'MODEL', 'YEAR', 'MPN#', 'OEM', 'AD ITEM', 'VENDOR NOTES']\n",
    "\n",
    "# Create an empty DataFrame with defined columns\n",
    "df = pd.DataFrame(columns=columns)\n",
    "\n",
    "# Sample data to add for KITTY\n",
    "data_kitty = {\n",
    "    'MAKE': 'HONDA',\n",
    "    'MODEL': 'TRX300 ',\n",
    "    'YEAR': '',\n",
    "    'MPN#': 'AT-01464',\n",
    "    'OEM': '33700-965-003',\n",
    "    'AD ITEM': pd.NA,\n",
    "    'VENDOR NOTES': 'ASSEMBLY'\n",
    "}\n",
    "\n",
    "# Create a list to hold data dictionaries for each year\n",
    "data_list = []\n",
    "\n",
    "# Generate data for each year and add to the list\n",
    "for year in range(1988, 2001):\n",
    "    data_copy = data_kitty.copy()\n",
    "    data_copy['YEAR'] = year\n",
    "    data_list.append(data_copy)\n",
    "\n",
    "# Create DataFrame from the list of dictionaries\n",
    "df = pd.DataFrame(data_list)\n",
    "\n",
    "# Display the DataFrame\n",
    "df\n"
   ]
  },
  {
   "cell_type": "code",
   "execution_count": null,
   "id": "7558b355-7e22-47ac-902b-f12677a2d278",
   "metadata": {
    "tags": []
   },
   "outputs": [],
   "source": [
    "file_path = r\"C:\\Users\\User\\Desktop\\nachmann\\2024 TASK\\SECTION 01\\Taillight\\MERGE\\r115_8801.csv\"\n",
    "df.to_csv(file_path, index=False)"
   ]
  },
  {
   "cell_type": "code",
   "execution_count": null,
   "id": "1fe31775-3a18-4081-bcb3-0137e38e67ac",
   "metadata": {
    "tags": []
   },
   "outputs": [],
   "source": [
    "import pandas as pd\n",
    "\n",
    "# Define columns for the DataFrame\n",
    "columns = ['MAKE', 'MODEL', 'YEAR', 'MPN#', 'OEM', 'AD ITEM', 'VENDOR NOTES']\n",
    "\n",
    "# Create an empty DataFrame with defined columns\n",
    "df = pd.DataFrame(columns=columns)\n",
    "\n",
    "# Sample data to add for KITTY\n",
    "data_kitty = {\n",
    "    'MAKE': 'HONDA',\n",
    "    'MODEL': 'TRX300 ',\n",
    "    'YEAR': '',\n",
    "    'MPN#': ['AT-01464','AT-01009'],\n",
    "\n",
    "    'OEM': '33700-965-003',\n",
    "    'AD ITEM': pd.NA,\n",
    "    'VENDOR NOTES': 'ASSEMBLY'\n",
    "}\n",
    "\n",
    "# Create a list to hold data dictionaries for each year\n",
    "data_list = []\n",
    "\n",
    "# Generate data for each year and add to the list\n",
    "for year in range(1988, 2001):\n",
    "    data_copy = data_kitty.copy()\n",
    "    data_copy['YEAR'] = year\n",
    "    data_list.append(data_copy)\n",
    "\n",
    "# Create DataFrame from the list of dictionaries\n",
    "df = pd.DataFrame(data_list)\n",
    "\n",
    "# Display the DataFrame\n",
    "df\n"
   ]
  },
  {
   "cell_type": "code",
   "execution_count": null,
   "id": "88ba852d-9593-4102-9b00-c02300d94213",
   "metadata": {
    "tags": []
   },
   "outputs": [],
   "source": [
    "import pandas as pd\n",
    "\n",
    "# Define columns for the DataFrame\n",
    "columns = ['MAKE', 'MODEL', 'YEAR', 'MPN#', 'OEM', 'AD ITEM', 'VENDOR NOTES']\n",
    "\n",
    "# Create an empty DataFrame with defined columns\n",
    "df = pd.DataFrame(columns=columns)\n",
    "\n",
    "# Sample data to add for KITTY\n",
    "data_kitty = {\n",
    "    'MAKE': 'HONDA',\n",
    "    'MODEL': 'TRX300 ',\n",
    "    'YEAR': '',\n",
    "    'MPN#': ['AT-01464', 'AT-01009'],  # Store multiple MPN# values as a list\n",
    "    'OEM': '33700-965-003',\n",
    "    'AD ITEM': pd.NA,\n",
    "    'VENDOR NOTES': 'ASSEMBLY'\n",
    "}\n",
    "\n",
    "# Create a list to hold data dictionaries for each year\n",
    "data_list = []\n",
    "\n",
    "# Generate data for each year and add to the list\n",
    "for year in range(1988, 2001):\n",
    "    for mpn in data_kitty['MPN#']:  # Iterate over each MPN# value\n",
    "        data_copy = data_kitty.copy()\n",
    "        data_copy['YEAR'] = year\n",
    "        data_copy['MPN#'] = mpn\n",
    "        data_list.append(data_copy)\n",
    "\n",
    "# Create DataFrame from the list of dictionaries\n",
    "df = pd.DataFrame(data_list)\n",
    "\n",
    "# Display the DataFrame\n",
    "print(df)\n"
   ]
  },
  {
   "cell_type": "code",
   "execution_count": null,
   "id": "695549ba-6514-425f-9718-a46f6bb07bd7",
   "metadata": {
    "tags": []
   },
   "outputs": [],
   "source": [
    "file_path = r\"C:\\Users\\User\\Desktop\\nachmann\\2024 TASK\\SECTION 01\\Taillight\\MERGE\\r115116_8801.csv\"\n",
    "df.to_csv(file_path, index=False)"
   ]
  },
  {
   "cell_type": "code",
   "execution_count": null,
   "id": "4723bf1c-748d-47c9-8d36-182fa163ba3b",
   "metadata": {
    "tags": []
   },
   "outputs": [],
   "source": [
    "import pandas as pd\n",
    "\n",
    "# Define columns for the DataFrame\n",
    "columns = ['MAKE', 'MODEL', 'YEAR', 'MPN#', 'OEM', 'AD ITEM', 'VENDOR NOTES']\n",
    "\n",
    "# Create an empty DataFrame with defined columns\n",
    "df = pd.DataFrame(columns=columns)\n",
    "\n",
    "# Sample data to add for KITTY\n",
    "data_kitty = {\n",
    "    'MAKE': 'HONDA',\n",
    "    'MODEL': 'ATC35R ',\n",
    "    'YEAR': '',\n",
    "    'MPN#': ['AT-01009'],  # Store multiple MPN# values as a list\n",
    "    'OEM': '33700-965-003',\n",
    "    'AD ITEM': pd.NA,\n",
    "    'VENDOR NOTES': 'ASSEMBLY'\n",
    "}\n",
    "\n",
    "# Create a list to hold data dictionaries for each year\n",
    "data_list = []\n",
    "\n",
    "# Generate data for each year and add to the list\n",
    "for year in range(1985, 1987):\n",
    "    for mpn in data_kitty['MPN#']:  # Iterate over each MPN# value\n",
    "        data_copy = data_kitty.copy()\n",
    "        data_copy['YEAR'] = year\n",
    "        data_copy['MPN#'] = mpn\n",
    "        data_list.append(data_copy)\n",
    "\n",
    "# Create DataFrame from the list of dictionaries\n",
    "df = pd.DataFrame(data_list)\n",
    "\n",
    "# Display the DataFrame\n",
    "print(df)\n"
   ]
  },
  {
   "cell_type": "code",
   "execution_count": null,
   "id": "ec69fe5a-0aa5-468b-8309-332878efb2cf",
   "metadata": {
    "tags": []
   },
   "outputs": [],
   "source": [
    "file_path = r\"C:\\Users\\User\\Desktop\\nachmann\\2024 TASK\\SECTION 01\\Taillight\\MERGE\\r117_8587.csv\"\n",
    "df.to_csv(file_path, index=False)"
   ]
  },
  {
   "cell_type": "code",
   "execution_count": null,
   "id": "4267e406-075d-4726-b21a-107a83bc7c4b",
   "metadata": {
    "tags": []
   },
   "outputs": [],
   "source": [
    "import pandas as pd\n",
    "\n",
    "# Define columns for the DataFrame\n",
    "columns = ['MAKE', 'MODEL', 'YEAR', 'MPN#', 'OEM', 'AD ITEM', 'VENDOR NOTES']\n",
    "\n",
    "# Create an empty DataFrame with defined columns\n",
    "df = pd.DataFrame(columns=columns)\n",
    "\n",
    "# Sample data to add for KITTY\n",
    "data_kitty = {\n",
    "    'MAKE': 'POLARIS',\n",
    "    'MODEL': 'MOST ATV`s',\n",
    "    'YEAR': '',\n",
    "    'MPN#': ['AT-01052'],  # Store multiple MPN# values as a list\n",
    "    'OEM': ['4032046','4032030'],\n",
    "    'AD ITEM': pd.NA,\n",
    "    'VENDOR NOTES': 'LENS ONLY'\n",
    "}\n",
    "\n",
    "# Create a list to hold data dictionaries for each year\n",
    "data_list = []\n",
    "\n",
    "# Generate data for each year and add to the list\n",
    "for year in range(1985, 1987):\n",
    "    for mpn in data_kitty['MPN#']:  # Iterate over each MPN# value\n",
    "        data_copy = data_kitty.copy()\n",
    "        data_copy['YEAR'] = year\n",
    "        data_copy['MPN#'] = mpn\n",
    "        data_list.append(data_copy)\n",
    "\n",
    "# Create DataFrame from the list of dictionaries\n",
    "df = pd.DataFrame(data_list)\n",
    "\n",
    "# Display the DataFrame\n",
    "print(df)\n"
   ]
  },
  {
   "cell_type": "markdown",
   "id": "8c5096a6-d0cc-41de-9cff-6d1dcdcf6c5a",
   "metadata": {},
   "source": [
    "##FOR MULTIPLE OEM'S##"
   ]
  },
  {
   "cell_type": "code",
   "execution_count": null,
   "id": "fbaf8296-4c06-4f99-8e8a-dc31dd41fa96",
   "metadata": {
    "tags": []
   },
   "outputs": [],
   "source": [
    "import pandas as pd\n",
    "\n",
    "# Define columns for the DataFrame\n",
    "columns = ['MAKE', 'MODEL', 'YEAR', 'MPN#', 'OEM', 'AD ITEM', 'VENDOR NOTES']\n",
    "\n",
    "# Create an empty DataFrame with defined columns\n",
    "df = pd.DataFrame(columns=columns)\n",
    "\n",
    "# Sample data to add for KITTY\n",
    "data_kitty = {\n",
    "    'MAKE': 'POLARIS',\n",
    "    'MODEL': 'MOST ATV`s',\n",
    "    'YEAR': '',\n",
    "    'MPN#': ['AT-01052'],  # Store multiple MPN# values as a list\n",
    "    'OEM': ['4032046', '4032030'],  # Store multiple OEM# values as a list\n",
    "    'AD ITEM': pd.NA,\n",
    "    'VENDOR NOTES': 'LENS ONLY'\n",
    "}\n",
    "\n",
    "# Create a list to hold data dictionaries for each year\n",
    "data_list = []\n",
    "\n",
    "# Generate data for each year and add to the list\n",
    "for year in range(1985, 2007):\n",
    "    for mpn in data_kitty['MPN#']:  # Iterate over each MPN# value\n",
    "        for oem in data_kitty['OEM']:  # Iterate over each OEM# value\n",
    "            data_copy = data_kitty.copy()\n",
    "            data_copy['YEAR'] = year\n",
    "            data_copy['MPN#'] = mpn\n",
    "            data_copy['OEM'] = oem\n",
    "            data_list.append(data_copy)\n",
    "\n",
    "# Create DataFrame from the list of dictionaries\n",
    "df = pd.DataFrame(data_list)\n",
    "\n",
    "# Display the DataFrame\n",
    "print(df)"
   ]
  },
  {
   "cell_type": "code",
   "execution_count": null,
   "id": "154ce4b4-2fe5-41e7-b570-8c5c5306af5a",
   "metadata": {
    "tags": []
   },
   "outputs": [],
   "source": [
    "file_path = r\"C:\\Users\\User\\Desktop\\nachmann\\2024 TASK\\SECTION 01\\Taillight\\MERGE\\r120_8507.csv\"\n",
    "df.to_csv(file_path, index=False)"
   ]
  },
  {
   "cell_type": "code",
   "execution_count": 1,
   "id": "0aa908c7-ee0f-4da0-9515-032ac3a35ced",
   "metadata": {
    "tags": []
   },
   "outputs": [
    {
     "name": "stdout",
     "output_type": "stream",
     "text": [
      "       MAKE      MODEL  YEAR      MPN#      OEM AD ITEM VENDOR NOTES\n",
      "0   POLARIS  TRAILBOSS  1992  AT-01052  4032046    <NA>    LENS ONLY\n",
      "1   POLARIS  TRAILBOSS  1992  AT-01052  4032030    <NA>    LENS ONLY\n",
      "2   POLARIS  TRAILBOSS  1993  AT-01052  4032046    <NA>    LENS ONLY\n",
      "3   POLARIS  TRAILBOSS  1993  AT-01052  4032030    <NA>    LENS ONLY\n",
      "4   POLARIS  TRAILBOSS  1994  AT-01052  4032046    <NA>    LENS ONLY\n",
      "5   POLARIS  TRAILBOSS  1994  AT-01052  4032030    <NA>    LENS ONLY\n",
      "6   POLARIS  TRAILBOSS  1995  AT-01052  4032046    <NA>    LENS ONLY\n",
      "7   POLARIS  TRAILBOSS  1995  AT-01052  4032030    <NA>    LENS ONLY\n",
      "8   POLARIS  TRAILBOSS  1996  AT-01052  4032046    <NA>    LENS ONLY\n",
      "9   POLARIS  TRAILBOSS  1996  AT-01052  4032030    <NA>    LENS ONLY\n",
      "10  POLARIS  TRAILBOSS  1997  AT-01052  4032046    <NA>    LENS ONLY\n",
      "11  POLARIS  TRAILBOSS  1997  AT-01052  4032030    <NA>    LENS ONLY\n",
      "12  POLARIS  TRAILBOSS  1998  AT-01052  4032046    <NA>    LENS ONLY\n",
      "13  POLARIS  TRAILBOSS  1998  AT-01052  4032030    <NA>    LENS ONLY\n",
      "14  POLARIS  TRAILBOSS  1999  AT-01052  4032046    <NA>    LENS ONLY\n",
      "15  POLARIS  TRAILBOSS  1999  AT-01052  4032030    <NA>    LENS ONLY\n",
      "16  POLARIS  TRAILBOSS  2000  AT-01052  4032046    <NA>    LENS ONLY\n",
      "17  POLARIS  TRAILBOSS  2000  AT-01052  4032030    <NA>    LENS ONLY\n",
      "18  POLARIS  TRAILBOSS  2001  AT-01052  4032046    <NA>    LENS ONLY\n",
      "19  POLARIS  TRAILBOSS  2001  AT-01052  4032030    <NA>    LENS ONLY\n",
      "20  POLARIS  TRAILBOSS  2002  AT-01052  4032046    <NA>    LENS ONLY\n",
      "21  POLARIS  TRAILBOSS  2002  AT-01052  4032030    <NA>    LENS ONLY\n",
      "22  POLARIS  TRAILBOSS  2003  AT-01052  4032046    <NA>    LENS ONLY\n",
      "23  POLARIS  TRAILBOSS  2003  AT-01052  4032030    <NA>    LENS ONLY\n",
      "24  POLARIS  TRAILBOSS  2004  AT-01052  4032046    <NA>    LENS ONLY\n",
      "25  POLARIS  TRAILBOSS  2004  AT-01052  4032030    <NA>    LENS ONLY\n",
      "26  POLARIS  TRAILBOSS  2005  AT-01052  4032046    <NA>    LENS ONLY\n",
      "27  POLARIS  TRAILBOSS  2005  AT-01052  4032030    <NA>    LENS ONLY\n",
      "28  POLARIS  TRAILBOSS  2006  AT-01052  4032046    <NA>    LENS ONLY\n",
      "29  POLARIS  TRAILBOSS  2006  AT-01052  4032030    <NA>    LENS ONLY\n",
      "30  POLARIS  TRAILBOSS  2007  AT-01052  4032046    <NA>    LENS ONLY\n",
      "31  POLARIS  TRAILBOSS  2007  AT-01052  4032030    <NA>    LENS ONLY\n",
      "32  POLARIS  TRAILBOSS  2008  AT-01052  4032046    <NA>    LENS ONLY\n",
      "33  POLARIS  TRAILBOSS  2008  AT-01052  4032030    <NA>    LENS ONLY\n",
      "34  POLARIS  TRAILBOSS  2009  AT-01052  4032046    <NA>    LENS ONLY\n",
      "35  POLARIS  TRAILBOSS  2009  AT-01052  4032030    <NA>    LENS ONLY\n"
     ]
    }
   ],
   "source": [
    "import pandas as pd\n",
    "\n",
    "# Define columns for the DataFrame\n",
    "columns = ['MAKE', 'MODEL', 'YEAR', 'MPN#', 'OEM', 'AD ITEM', 'VENDOR NOTES']\n",
    "\n",
    "# Create an empty DataFrame with defined columns\n",
    "df = pd.DataFrame(columns=columns)\n",
    "\n",
    "# Sample data to add for KITTY\n",
    "data_kitty = {\n",
    "    'MAKE': 'POLARIS',\n",
    "    'MODEL': 'TRAILBOSS',\n",
    "    'YEAR': '',\n",
    "    'MPN#': ['AT-01052'],  # Store multiple MPN# values as a list\n",
    "    'OEM': ['4032046', '4032030'],  # Store multiple OEM# values as a list\n",
    "    'AD ITEM': pd.NA,\n",
    "    'VENDOR NOTES': 'LENS ONLY'\n",
    "}\n",
    "\n",
    "# Create a list to hold data dictionaries for each year\n",
    "data_list = []\n",
    "\n",
    "# Generate data for each year and add to the list\n",
    "for year in range(1992, 2010):\n",
    "    for mpn in data_kitty['MPN#']:  # Iterate over each MPN# value\n",
    "        for oem in data_kitty['OEM']:  # Iterate over each OEM# value\n",
    "            data_copy = data_kitty.copy()\n",
    "            data_copy['YEAR'] = year\n",
    "            data_copy['MPN#'] = mpn\n",
    "            data_copy['OEM'] = oem\n",
    "            data_list.append(data_copy)\n",
    "\n",
    "# Create DataFrame from the list of dictionaries\n",
    "df = pd.DataFrame(data_list)\n",
    "\n",
    "# Display the DataFrame\n",
    "print(df)"
   ]
  },
  {
   "cell_type": "code",
   "execution_count": 2,
   "id": "7f16fe9e-f3c0-4121-b395-7db34719f3a0",
   "metadata": {
    "tags": []
   },
   "outputs": [],
   "source": [
    "file_path = r\"C:\\Users\\User\\Desktop\\nachmann\\2024 TASK\\SECTION 01\\Taillight\\MERGE\\r121_9210.csv\"\n",
    "df.to_csv(file_path, index=False)"
   ]
  },
  {
   "cell_type": "code",
   "execution_count": 3,
   "id": "9b5ef1b3-012a-4233-aa30-06a9d54a7826",
   "metadata": {
    "tags": []
   },
   "outputs": [
    {
     "name": "stdout",
     "output_type": "stream",
     "text": [
      "       MAKE             MODEL  YEAR      MPN#      OEM AD ITEM VENDOR NOTES\n",
      "0   POLARIS  TRAIL BLAZER 250  1996  SM-01074  4032085    <NA>    LENS ONLY\n",
      "1   POLARIS  TRAIL BLAZER 250  1997  SM-01074  4032085    <NA>    LENS ONLY\n",
      "2   POLARIS  TRAIL BLAZER 250  1998  SM-01074  4032085    <NA>    LENS ONLY\n",
      "3   POLARIS  TRAIL BLAZER 250  1999  SM-01074  4032085    <NA>    LENS ONLY\n",
      "4   POLARIS  TRAIL BLAZER 250  2000  SM-01074  4032085    <NA>    LENS ONLY\n",
      "5   POLARIS  TRAIL BLAZER 250  2001  SM-01074  4032085    <NA>    LENS ONLY\n",
      "6   POLARIS  TRAIL BLAZER 250  2002  SM-01074  4032085    <NA>    LENS ONLY\n",
      "7   POLARIS  TRAIL BLAZER 250  2003  SM-01074  4032085    <NA>    LENS ONLY\n",
      "8   POLARIS  TRAIL BLAZER 250  2004  SM-01074  4032085    <NA>    LENS ONLY\n",
      "9   POLARIS  TRAIL BLAZER 250  2005  SM-01074  4032085    <NA>    LENS ONLY\n",
      "10  POLARIS  TRAIL BLAZER 250  2006  SM-01074  4032085    <NA>    LENS ONLY\n"
     ]
    }
   ],
   "source": [
    "import pandas as pd\n",
    "\n",
    "# Define columns for the DataFrame\n",
    "columns = ['MAKE', 'MODEL', 'YEAR', 'MPN#', 'OEM', 'AD ITEM', 'VENDOR NOTES']\n",
    "\n",
    "# Create an empty DataFrame with defined columns\n",
    "df = pd.DataFrame(columns=columns)\n",
    "\n",
    "# Sample data to add for KITTY\n",
    "data_kitty = {\n",
    "    'MAKE': 'POLARIS',\n",
    "    'MODEL': 'TRAIL BLAZER 250',\n",
    "    'YEAR': '',\n",
    "    'MPN#': ['SM-01074'],  # Store multiple MPN# values as a list\n",
    "    'OEM': ['4032085'],  # Store multiple OEM# values as a list\n",
    "    'AD ITEM': pd.NA,\n",
    "    'VENDOR NOTES': 'LENS ONLY'\n",
    "}\n",
    "\n",
    "# Create a list to hold data dictionaries for each year\n",
    "data_list = []\n",
    "\n",
    "# Generate data for each year and add to the list\n",
    "for year in range(1996, 2007):\n",
    "    for mpn in data_kitty['MPN#']:  # Iterate over each MPN# value\n",
    "        for oem in data_kitty['OEM']:  # Iterate over each OEM# value\n",
    "            data_copy = data_kitty.copy()\n",
    "            data_copy['YEAR'] = year\n",
    "            data_copy['MPN#'] = mpn\n",
    "            data_copy['OEM'] = oem\n",
    "            data_list.append(data_copy)\n",
    "\n",
    "# Create DataFrame from the list of dictionaries\n",
    "df = pd.DataFrame(data_list)\n",
    "\n",
    "# Display the DataFrame\n",
    "print(df)"
   ]
  },
  {
   "cell_type": "code",
   "execution_count": 4,
   "id": "ec4b19fd-9944-4a30-ad33-18d8b2fe3c3f",
   "metadata": {
    "tags": []
   },
   "outputs": [],
   "source": [
    "file_path = r\"C:\\Users\\User\\Desktop\\nachmann\\2024 TASK\\SECTION 01\\Taillight\\MERGE\\r122_9607.csv\"\n",
    "df.to_csv(file_path, index=False)"
   ]
  },
  {
   "cell_type": "code",
   "execution_count": 5,
   "id": "e6b2989d-803c-498a-99a4-40911706c5fa",
   "metadata": {
    "tags": []
   },
   "outputs": [
    {
     "name": "stdout",
     "output_type": "stream",
     "text": [
      "      MAKE             MODEL  YEAR      MPN#      OEM AD ITEM VENDOR NOTES\n",
      "0  POLARIS  TRAIL BLAZER 350  2008  SM-01074  4032085    <NA>    LENS ONLY\n",
      "1  POLARIS  TRAIL BLAZER 350  2009  SM-01074  4032085    <NA>    LENS ONLY\n"
     ]
    }
   ],
   "source": [
    "import pandas as pd\n",
    "\n",
    "# Define columns for the DataFrame\n",
    "columns = ['MAKE', 'MODEL', 'YEAR', 'MPN#', 'OEM', 'AD ITEM', 'VENDOR NOTES']\n",
    "\n",
    "# Create an empty DataFrame with defined columns\n",
    "df = pd.DataFrame(columns=columns)\n",
    "\n",
    "# Sample data to add for KITTY\n",
    "data_kitty = {\n",
    "    'MAKE': 'POLARIS',\n",
    "    'MODEL': 'TRAIL BLAZER 350',\n",
    "    'YEAR': '',\n",
    "    'MPN#': ['SM-01074'],  # Store multiple MPN# values as a list\n",
    "    'OEM': ['4032085'],  # Store multiple OEM# values as a list\n",
    "    'AD ITEM': pd.NA,\n",
    "    'VENDOR NOTES': 'LENS ONLY'\n",
    "}\n",
    "\n",
    "# Create a list to hold data dictionaries for each year\n",
    "data_list = []\n",
    "\n",
    "# Generate data for each year and add to the list\n",
    "for year in range(2008, 2010):\n",
    "    for mpn in data_kitty['MPN#']:  # Iterate over each MPN# value\n",
    "        for oem in data_kitty['OEM']:  # Iterate over each OEM# value\n",
    "            data_copy = data_kitty.copy()\n",
    "            data_copy['YEAR'] = year\n",
    "            data_copy['MPN#'] = mpn\n",
    "            data_copy['OEM'] = oem\n",
    "            data_list.append(data_copy)\n",
    "\n",
    "# Create DataFrame from the list of dictionaries\n",
    "df = pd.DataFrame(data_list)\n",
    "\n",
    "# Display the DataFrame\n",
    "print(df)"
   ]
  },
  {
   "cell_type": "code",
   "execution_count": 6,
   "id": "1443885d-f173-40ac-a00b-d55c09d5dc6b",
   "metadata": {
    "tags": []
   },
   "outputs": [],
   "source": [
    "file_path = r\"C:\\Users\\User\\Desktop\\nachmann\\2024 TASK\\SECTION 01\\Taillight\\MERGE\\r123_0809.csv\"\n",
    "df.to_csv(file_path, index=False)"
   ]
  },
  {
   "cell_type": "code",
   "execution_count": 7,
   "id": "97e29231-8b5e-4606-bcfc-ce5eee1be449",
   "metadata": {
    "tags": []
   },
   "outputs": [
    {
     "name": "stdout",
     "output_type": "stream",
     "text": [
      "       MAKE          MODEL  YEAR      MPN#      OEM AD ITEM VENDOR NOTES\n",
      "0   POLARIS  SCRAMBLER 400  1996  SM-01074  4032085    <NA>    LENS ONLY\n",
      "1   POLARIS  SCRAMBLER 400  1997  SM-01074  4032085    <NA>    LENS ONLY\n",
      "2   POLARIS  SCRAMBLER 400  1998  SM-01074  4032085    <NA>    LENS ONLY\n",
      "3   POLARIS  SCRAMBLER 400  1999  SM-01074  4032085    <NA>    LENS ONLY\n",
      "4   POLARIS  SCRAMBLER 400  2000  SM-01074  4032085    <NA>    LENS ONLY\n",
      "5   POLARIS  SCRAMBLER 400  2001  SM-01074  4032085    <NA>    LENS ONLY\n",
      "6   POLARIS  SCRAMBLER 400  2002  SM-01074  4032085    <NA>    LENS ONLY\n",
      "7   POLARIS  SCRAMBLER 400  2003  SM-01074  4032085    <NA>    LENS ONLY\n",
      "8   POLARIS  SCRAMBLER 400  2004  SM-01074  4032085    <NA>    LENS ONLY\n",
      "9   POLARIS  SCRAMBLER 400  2005  SM-01074  4032085    <NA>    LENS ONLY\n",
      "10  POLARIS  SCRAMBLER 400  2006  SM-01074  4032085    <NA>    LENS ONLY\n"
     ]
    }
   ],
   "source": [
    "import pandas as pd\n",
    "\n",
    "# Define columns for the DataFrame\n",
    "columns = ['MAKE', 'MODEL', 'YEAR', 'MPN#', 'OEM', 'AD ITEM', 'VENDOR NOTES']\n",
    "\n",
    "# Create an empty DataFrame with defined columns\n",
    "df = pd.DataFrame(columns=columns)\n",
    "\n",
    "# Sample data to add for KITTY\n",
    "data_kitty = {\n",
    "    'MAKE': 'POLARIS',\n",
    "    'MODEL': 'SCRAMBLER 400',\n",
    "    'YEAR': '',\n",
    "    'MPN#': ['SM-01074'],  # Store multiple MPN# values as a list\n",
    "    'OEM': ['4032085'],  # Store multiple OEM# values as a list\n",
    "    'AD ITEM': pd.NA,\n",
    "    'VENDOR NOTES': 'LENS ONLY'\n",
    "}\n",
    "\n",
    "# Create a list to hold data dictionaries for each year\n",
    "data_list = []\n",
    "\n",
    "# Generate data for each year and add to the list\n",
    "for year in range(1996, 2007):\n",
    "    for mpn in data_kitty['MPN#']:  # Iterate over each MPN# value\n",
    "        for oem in data_kitty['OEM']:  # Iterate over each OEM# value\n",
    "            data_copy = data_kitty.copy()\n",
    "            data_copy['YEAR'] = year\n",
    "            data_copy['MPN#'] = mpn\n",
    "            data_copy['OEM'] = oem\n",
    "            data_list.append(data_copy)\n",
    "\n",
    "# Create DataFrame from the list of dictionaries\n",
    "df = pd.DataFrame(data_list)\n",
    "\n",
    "# Display the DataFrame\n",
    "print(df)"
   ]
  },
  {
   "cell_type": "code",
   "execution_count": 8,
   "id": "eb70e510-2873-41b9-b01d-39a180e372b9",
   "metadata": {
    "tags": []
   },
   "outputs": [],
   "source": [
    "file_path = r\"C:\\Users\\User\\Desktop\\nachmann\\2024 TASK\\SECTION 01\\Taillight\\MERGE\\r124_9606.csv\"\n",
    "df.to_csv(file_path, index=False)"
   ]
  },
  {
   "cell_type": "code",
   "execution_count": 9,
   "id": "78d465f9-2391-40c2-a48c-3217360c8835",
   "metadata": {
    "tags": []
   },
   "outputs": [
    {
     "name": "stdout",
     "output_type": "stream",
     "text": [
      "      MAKE      MODEL  YEAR      MPN#      OEM AD ITEM VENDOR NOTES\n",
      "0  POLARIS  SPORT 400  1999  SM-01074  4032085    <NA>    LENS ONLY\n"
     ]
    }
   ],
   "source": [
    "import pandas as pd\n",
    "\n",
    "# Define columns for the DataFrame\n",
    "columns = ['MAKE', 'MODEL', 'YEAR', 'MPN#', 'OEM', 'AD ITEM', 'VENDOR NOTES']\n",
    "\n",
    "# Create an empty DataFrame with defined columns\n",
    "df = pd.DataFrame(columns=columns)\n",
    "\n",
    "# Sample data to add for KITTY\n",
    "data_kitty = {\n",
    "    'MAKE': 'POLARIS',\n",
    "    'MODEL': 'SPORT 400',\n",
    "    'YEAR': '',\n",
    "    'MPN#': ['SM-01074'],  # Store multiple MPN# values as a list\n",
    "    'OEM': ['4032085'],  # Store multiple OEM# values as a list\n",
    "    'AD ITEM': pd.NA,\n",
    "    'VENDOR NOTES': 'LENS ONLY'\n",
    "}\n",
    "\n",
    "# Create a list to hold data dictionaries for each year\n",
    "data_list = []\n",
    "\n",
    "# Generate data for each year and add to the list\n",
    "for year in range(1999, 2000):\n",
    "    for mpn in data_kitty['MPN#']:  # Iterate over each MPN# value\n",
    "        for oem in data_kitty['OEM']:  # Iterate over each OEM# value\n",
    "            data_copy = data_kitty.copy()\n",
    "            data_copy['YEAR'] = year\n",
    "            data_copy['MPN#'] = mpn\n",
    "            data_copy['OEM'] = oem\n",
    "            data_list.append(data_copy)\n",
    "\n",
    "# Create DataFrame from the list of dictionaries\n",
    "df = pd.DataFrame(data_list)\n",
    "\n",
    "# Display the DataFrame\n",
    "print(df)"
   ]
  },
  {
   "cell_type": "code",
   "execution_count": 10,
   "id": "a0914892-cc9b-4ad3-8c6d-7efb793681a1",
   "metadata": {
    "tags": []
   },
   "outputs": [],
   "source": [
    "file_path = r\"C:\\Users\\User\\Desktop\\nachmann\\2024 TASK\\SECTION 01\\Taillight\\MERGE\\r125_99.csv\"\n",
    "df.to_csv(file_path, index=False)"
   ]
  },
  {
   "cell_type": "code",
   "execution_count": 11,
   "id": "96354950-59fd-4856-9b94-e93858d87b9b",
   "metadata": {
    "tags": []
   },
   "outputs": [
    {
     "name": "stdout",
     "output_type": "stream",
     "text": [
      "      MAKE       MODEL  YEAR      MPN#      OEM AD ITEM VENDOR NOTES\n",
      "0  POLARIS  SPORT 400l  1996  SM-01074  4032085    <NA>    LENS ONLY\n",
      "1  POLARIS  SPORT 400l  1997  SM-01074  4032085    <NA>    LENS ONLY\n",
      "2  POLARIS  SPORT 400l  1998  SM-01074  4032085    <NA>    LENS ONLY\n",
      "3  POLARIS  SPORT 400l  1999  SM-01074  4032085    <NA>    LENS ONLY\n"
     ]
    }
   ],
   "source": [
    "import pandas as pd\n",
    "\n",
    "# Define columns for the DataFrame\n",
    "columns = ['MAKE', 'MODEL', 'YEAR', 'MPN#', 'OEM', 'AD ITEM', 'VENDOR NOTES']\n",
    "\n",
    "# Create an empty DataFrame with defined columns\n",
    "df = pd.DataFrame(columns=columns)\n",
    "\n",
    "# Sample data to add for KITTY\n",
    "data_kitty = {\n",
    "    'MAKE': 'POLARIS',\n",
    "    'MODEL': 'SPORT 400l',\n",
    "    'YEAR': '',\n",
    "    'MPN#': ['SM-01074'],  # Store multiple MPN# values as a list\n",
    "    'OEM': ['4032085'],  # Store multiple OEM# values as a list\n",
    "    'AD ITEM': pd.NA,\n",
    "    'VENDOR NOTES': 'LENS ONLY'\n",
    "}\n",
    "\n",
    "# Create a list to hold data dictionaries for each year\n",
    "data_list = []\n",
    "\n",
    "# Generate data for each year and add to the list\n",
    "for year in range(1996, 2000):\n",
    "    for mpn in data_kitty['MPN#']:  # Iterate over each MPN# value\n",
    "        for oem in data_kitty['OEM']:  # Iterate over each OEM# value\n",
    "            data_copy = data_kitty.copy()\n",
    "            data_copy['YEAR'] = year\n",
    "            data_copy['MPN#'] = mpn\n",
    "            data_copy['OEM'] = oem\n",
    "            data_list.append(data_copy)\n",
    "\n",
    "# Create DataFrame from the list of dictionaries\n",
    "df = pd.DataFrame(data_list)\n",
    "\n",
    "# Display the DataFrame\n",
    "print(df)"
   ]
  },
  {
   "cell_type": "code",
   "execution_count": 12,
   "id": "2bd1f830-899c-4b70-8587-e13736ebfa6b",
   "metadata": {
    "tags": []
   },
   "outputs": [],
   "source": [
    "file_path = r\"C:\\Users\\User\\Desktop\\nachmann\\2024 TASK\\SECTION 01\\Taillight\\MERGE\\r126_9600.csv\"\n",
    "df.to_csv(file_path, index=False)"
   ]
  },
  {
   "cell_type": "code",
   "execution_count": 13,
   "id": "5167f842-90f6-4b80-80d5-85ba706abef2",
   "metadata": {
    "tags": []
   },
   "outputs": [
    {
     "name": "stdout",
     "output_type": "stream",
     "text": [
      "      MAKE             MODEL  YEAR      MPN#      OEM AD ITEM VENDOR NOTES\n",
      "0  POLARIS  TRAIL BLAZER 400  2003  SM-01074  4032085    <NA>    LENS ONLY\n"
     ]
    }
   ],
   "source": [
    "import pandas as pd\n",
    "\n",
    "# Define columns for the DataFrame\n",
    "columns = ['MAKE', 'MODEL', 'YEAR', 'MPN#', 'OEM', 'AD ITEM', 'VENDOR NOTES']\n",
    "\n",
    "# Create an empty DataFrame with defined columns\n",
    "df = pd.DataFrame(columns=columns)\n",
    "\n",
    "# Sample data to add for KITTY\n",
    "data_kitty = {\n",
    "    'MAKE': 'POLARIS',\n",
    "    'MODEL': 'TRAIL BLAZER 400',\n",
    "    'YEAR': '',\n",
    "    'MPN#': ['SM-01074'],  # Store multiple MPN# values as a list\n",
    "    'OEM': ['4032085'],  # Store multiple OEM# values as a list\n",
    "    'AD ITEM': pd.NA,\n",
    "    'VENDOR NOTES': 'LENS ONLY'\n",
    "}\n",
    "\n",
    "# Create a list to hold data dictionaries for each year\n",
    "data_list = []\n",
    "\n",
    "# Generate data for each year and add to the list\n",
    "for year in range(2003, 2004):\n",
    "    for mpn in data_kitty['MPN#']:  # Iterate over each MPN# value\n",
    "        for oem in data_kitty['OEM']:  # Iterate over each OEM# value\n",
    "            data_copy = data_kitty.copy()\n",
    "            data_copy['YEAR'] = year\n",
    "            data_copy['MPN#'] = mpn\n",
    "            data_copy['OEM'] = oem\n",
    "            data_list.append(data_copy)\n",
    "\n",
    "# Create DataFrame from the list of dictionaries\n",
    "df = pd.DataFrame(data_list)\n",
    "\n",
    "# Display the DataFrame\n",
    "print(df)"
   ]
  },
  {
   "cell_type": "code",
   "execution_count": 14,
   "id": "919190f9-8f4e-445b-afa0-261a1d9d60cc",
   "metadata": {
    "tags": []
   },
   "outputs": [],
   "source": [
    "file_path = r\"C:\\Users\\User\\Desktop\\nachmann\\2024 TASK\\SECTION 01\\Taillight\\MERGE\\r127_03.csv\"\n",
    "df.to_csv(file_path, index=False)"
   ]
  },
  {
   "cell_type": "code",
   "execution_count": 16,
   "id": "37e6b70a-ae60-4e55-8b48-710d3689806b",
   "metadata": {
    "tags": []
   },
   "outputs": [
    {
     "name": "stdout",
     "output_type": "stream",
     "text": [
      "      MAKE         MODEL  YEAR      MPN#          OEM AD ITEM VENDOR NOTES\n",
      "0  POLARIS  OUTLAW 450 S  2009  SM-01503  2411092-432    <NA>    LENS ONLY\n",
      "1  POLARIS  OUTLAW 450 S  2010  SM-01503  2411092-432    <NA>    LENS ONLY\n"
     ]
    }
   ],
   "source": [
    "import pandas as pd\n",
    "\n",
    "# Define columns for the DataFrame\n",
    "columns = ['MAKE', 'MODEL', 'YEAR', 'MPN#', 'OEM', 'AD ITEM', 'VENDOR NOTES']\n",
    "\n",
    "# Create an empty DataFrame with defined columns\n",
    "df = pd.DataFrame(columns=columns)\n",
    "\n",
    "# Sample data to add for KITTY\n",
    "data_kitty = {\n",
    "    'MAKE': 'POLARIS',\n",
    "    'MODEL': 'OUTLAW 450 S',\n",
    "    'YEAR': '',\n",
    "    'MPN#': ['SM-01503'],  # Store multiple MPN# values as a list\n",
    "    'OEM': ['2411092-432'],  # Store multiple OEM# values as a list\n",
    "    'AD ITEM': pd.NA,\n",
    "    'VENDOR NOTES': 'LENS ONLY'\n",
    "}\n",
    "\n",
    "# Create a list to hold data dictionaries for each year\n",
    "data_list = []\n",
    "\n",
    "# Generate data for each year and add to the list\n",
    "for year in range(2009, 2011):\n",
    "    for mpn in data_kitty['MPN#']:  # Iterate over each MPN# value\n",
    "        for oem in data_kitty['OEM']:  # Iterate over each OEM# value\n",
    "            data_copy = data_kitty.copy()\n",
    "            data_copy['YEAR'] = year\n",
    "            data_copy['MPN#'] = mpn\n",
    "            data_copy['OEM'] = oem\n",
    "            data_list.append(data_copy)\n",
    "\n",
    "# Create DataFrame from the list of dictionaries\n",
    "df = pd.DataFrame(data_list)\n",
    "\n",
    "# Display the DataFrame\n",
    "print(df)"
   ]
  },
  {
   "cell_type": "code",
   "execution_count": 17,
   "id": "cd78d1a7-c64a-49bc-b0f1-05fdafe57895",
   "metadata": {
    "tags": []
   },
   "outputs": [],
   "source": [
    "file_path = r\"C:\\Users\\User\\Desktop\\nachmann\\2024 TASK\\SECTION 01\\Taillight\\MERGE\\r128_0910.csv\"\n",
    "df.to_csv(file_path, index=False)"
   ]
  },
  {
   "cell_type": "code",
   "execution_count": 20,
   "id": "70dd6fde-6c55-4fd5-850d-972fe7a9430b",
   "metadata": {
    "tags": []
   },
   "outputs": [
    {
     "name": "stdout",
     "output_type": "stream",
     "text": [
      "       MAKE          MODEL  YEAR      MPN#      OEM AD ITEM VENDOR NOTES\n",
      "0   POLARIS  SCRAMBLER 500  1996  SM-01074  4032085    <NA>    LENS ONLY\n",
      "1   POLARIS  SCRAMBLER 500  1997  SM-01074  4032085    <NA>    LENS ONLY\n",
      "2   POLARIS  SCRAMBLER 500  1998  SM-01074  4032085    <NA>    LENS ONLY\n",
      "3   POLARIS  SCRAMBLER 500  1999  SM-01074  4032085    <NA>    LENS ONLY\n",
      "4   POLARIS  SCRAMBLER 500  2000  SM-01074  4032085    <NA>    LENS ONLY\n",
      "5   POLARIS  SCRAMBLER 500  2001  SM-01074  4032085    <NA>    LENS ONLY\n",
      "6   POLARIS  SCRAMBLER 500  2002  SM-01074  4032085    <NA>    LENS ONLY\n",
      "7   POLARIS  SCRAMBLER 500  2003  SM-01074  4032085    <NA>    LENS ONLY\n",
      "8   POLARIS  SCRAMBLER 500  2004  SM-01074  4032085    <NA>    LENS ONLY\n",
      "9   POLARIS  SCRAMBLER 500  2005  SM-01074  4032085    <NA>    LENS ONLY\n",
      "10  POLARIS  SCRAMBLER 500  2006  SM-01074  4032085    <NA>    LENS ONLY\n"
     ]
    }
   ],
   "source": [
    "import pandas as pd\n",
    "\n",
    "# Define columns for the DataFrame\n",
    "columns = ['MAKE', 'MODEL', 'YEAR', 'MPN#', 'OEM', 'AD ITEM', 'VENDOR NOTES']\n",
    "\n",
    "# Create an empty DataFrame with defined columns\n",
    "df = pd.DataFrame(columns=columns)\n",
    "\n",
    "# Sample data to add for KITTY\n",
    "data_kitty = {\n",
    "    'MAKE': 'POLARIS',\n",
    "    'MODEL': 'SCRAMBLER 500',\n",
    "    'YEAR': '',\n",
    "    'MPN#': ['SM-01074'],  # Store multiple MPN# values as a list\n",
    "    'OEM': ['4032085'],  # Store multiple OEM# values as a list\n",
    "    'AD ITEM': pd.NA,\n",
    "    'VENDOR NOTES': 'LENS ONLY'\n",
    "}\n",
    "\n",
    "# Create a list to hold data dictionaries for each year\n",
    "data_list = []\n",
    "\n",
    "# Generate data for each year and add to the list\n",
    "for year in range(1996, 2007):\n",
    "    for mpn in data_kitty['MPN#']:  # Iterate over each MPN# value\n",
    "        for oem in data_kitty['OEM']:  # Iterate over each OEM# value\n",
    "            data_copy = data_kitty.copy()\n",
    "            data_copy['YEAR'] = year\n",
    "            data_copy['MPN#'] = mpn\n",
    "            data_copy['OEM'] = oem\n",
    "            data_list.append(data_copy)\n",
    "\n",
    "# Create DataFrame from the list of dictionaries\n",
    "df = pd.DataFrame(data_list)\n",
    "\n",
    "# Display the DataFrame\n",
    "print(df)"
   ]
  },
  {
   "cell_type": "code",
   "execution_count": 21,
   "id": "7c0d3273-2285-4475-91ec-d0ab40521e84",
   "metadata": {
    "tags": []
   },
   "outputs": [],
   "source": [
    "file_path = r\"C:\\Users\\User\\Desktop\\nachmann\\2024 TASK\\SECTION 01\\Taillight\\MERGE\\r129_9607.csv\"\n",
    "df.to_csv(file_path, index=False)"
   ]
  },
  {
   "cell_type": "code",
   "execution_count": 22,
   "id": "2f5da8cb-fdaa-4da2-8be1-7747f28c4dd5",
   "metadata": {
    "tags": []
   },
   "outputs": [
    {
     "name": "stdout",
     "output_type": "stream",
     "text": [
      "      MAKE              MODEL  YEAR      MPN#      OEM AD ITEM VENDOR NOTES\n",
      "0  POLARIS  SCRAMBLER 500 4X4  2008  SM-01074  4032085    <NA>    LENS ONLY\n",
      "1  POLARIS  SCRAMBLER 500 4X4  2009  SM-01074  4032085    <NA>    LENS ONLY\n"
     ]
    }
   ],
   "source": [
    "import pandas as pd\n",
    "\n",
    "# Define columns for the DataFrame\n",
    "columns = ['MAKE', 'MODEL', 'YEAR', 'MPN#', 'OEM', 'AD ITEM', 'VENDOR NOTES']\n",
    "\n",
    "# Create an empty DataFrame with defined columns\n",
    "df = pd.DataFrame(columns=columns)\n",
    "\n",
    "# Sample data to add for KITTY\n",
    "data_kitty = {\n",
    "    'MAKE': 'POLARIS',\n",
    "    'MODEL': 'SCRAMBLER 500 4X4',\n",
    "    'YEAR': '',\n",
    "    'MPN#': ['SM-01074'],  # Store multiple MPN# values as a list\n",
    "    'OEM': ['4032085'],  # Store multiple OEM# values as a list\n",
    "    'AD ITEM': pd.NA,\n",
    "    'VENDOR NOTES': 'LENS ONLY'\n",
    "}\n",
    "\n",
    "# Create a list to hold data dictionaries for each year\n",
    "data_list = []\n",
    "\n",
    "# Generate data for each year and add to the list\n",
    "for year in range(2008, 2010):\n",
    "    for mpn in data_kitty['MPN#']:  # Iterate over each MPN# value\n",
    "        for oem in data_kitty['OEM']:  # Iterate over each OEM# value\n",
    "            data_copy = data_kitty.copy()\n",
    "            data_copy['YEAR'] = year\n",
    "            data_copy['MPN#'] = mpn\n",
    "            data_copy['OEM'] = oem\n",
    "            data_list.append(data_copy)\n",
    "\n",
    "# Create DataFrame from the list of dictionaries\n",
    "df = pd.DataFrame(data_list)\n",
    "\n",
    "# Display the DataFrame\n",
    "print(df)"
   ]
  },
  {
   "cell_type": "code",
   "execution_count": 23,
   "id": "d7de26e1-bf24-4779-81e0-2c83868437a3",
   "metadata": {
    "tags": []
   },
   "outputs": [],
   "source": [
    "file_path = r\"C:\\Users\\User\\Desktop\\nachmann\\2024 TASK\\SECTION 01\\Taillight\\MERGE\\r130_0809.csv\"\n",
    "df.to_csv(file_path, index=False)"
   ]
  },
  {
   "cell_type": "code",
   "execution_count": 24,
   "id": "7d2423fd-1f53-4990-9927-02d0c3503882",
   "metadata": {
    "tags": []
   },
   "outputs": [
    {
     "name": "stdout",
     "output_type": "stream",
     "text": [
      "      MAKE             MODEL  YEAR      MPN#          OEM AD ITEM VENDOR NOTES\n",
      "0  POLARIS  OUTLAW 525 S/IRS  2009  SM-01503  2411092-432    <NA>    LENS ONLY\n",
      "1  POLARIS  OUTLAW 525 S/IRS  2010  SM-01503  2411092-432    <NA>    LENS ONLY\n"
     ]
    }
   ],
   "source": [
    "import pandas as pd\n",
    "\n",
    "# Define columns for the DataFrame\n",
    "columns = ['MAKE', 'MODEL', 'YEAR', 'MPN#', 'OEM', 'AD ITEM', 'VENDOR NOTES']\n",
    "\n",
    "# Create an empty DataFrame with defined columns\n",
    "df = pd.DataFrame(columns=columns)\n",
    "\n",
    "# Sample data to add for KITTY\n",
    "data_kitty = {\n",
    "    'MAKE': 'POLARIS',\n",
    "    'MODEL': 'OUTLAW 525 S/IRS',\n",
    "    'YEAR': '',\n",
    "    'MPN#': ['SM-01503'],  # Store multiple MPN# values as a list\n",
    "    'OEM': ['2411092-432'],  # Store multiple OEM# values as a list\n",
    "    'AD ITEM': pd.NA,\n",
    "    'VENDOR NOTES': 'LENS ONLY'\n",
    "}\n",
    "\n",
    "# Create a list to hold data dictionaries for each year\n",
    "data_list = []\n",
    "\n",
    "# Generate data for each year and add to the list\n",
    "for year in range(2009, 2011):\n",
    "    for mpn in data_kitty['MPN#']:  # Iterate over each MPN# value\n",
    "        for oem in data_kitty['OEM']:  # Iterate over each OEM# value\n",
    "            data_copy = data_kitty.copy()\n",
    "            data_copy['YEAR'] = year\n",
    "            data_copy['MPN#'] = mpn\n",
    "            data_copy['OEM'] = oem\n",
    "            data_list.append(data_copy)\n",
    "\n",
    "# Create DataFrame from the list of dictionaries\n",
    "df = pd.DataFrame(data_list)\n",
    "\n",
    "# Display the DataFrame\n",
    "print(df)"
   ]
  },
  {
   "cell_type": "code",
   "execution_count": 25,
   "id": "dd8c52dc-f3ac-4bfd-a6ed-acecf34707a2",
   "metadata": {
    "tags": []
   },
   "outputs": [],
   "source": [
    "file_path = r\"C:\\Users\\User\\Desktop\\nachmann\\2024 TASK\\SECTION 01\\Taillight\\MERGE\\r131_0910.csv\"\n",
    "df.to_csv(file_path, index=False)"
   ]
  },
  {
   "cell_type": "code",
   "execution_count": 26,
   "id": "b0721810-7e9c-4d17-8dd6-bee070a83d04",
   "metadata": {
    "tags": []
   },
   "outputs": [
    {
     "name": "stdout",
     "output_type": "stream",
     "text": [
      "       MAKE          MODEL  YEAR      MPN#          OEM AD ITEM VENDOR NOTES\n",
      "0   POLARIS  SCRAMBLER 850  2013  SM-01503  2411092-432    <NA>    LENS ONLY\n",
      "1   POLARIS  SCRAMBLER 850  2014  SM-01503  2411092-432    <NA>    LENS ONLY\n",
      "2   POLARIS  SCRAMBLER 850  2015  SM-01503  2411092-432    <NA>    LENS ONLY\n",
      "3   POLARIS  SCRAMBLER 850  2016  SM-01503  2411092-432    <NA>    LENS ONLY\n",
      "4   POLARIS  SCRAMBLER 850  2017  SM-01503  2411092-432    <NA>    LENS ONLY\n",
      "5   POLARIS  SCRAMBLER 850  2018  SM-01503  2411092-432    <NA>    LENS ONLY\n",
      "6   POLARIS  SCRAMBLER 850  2019  SM-01503  2411092-432    <NA>    LENS ONLY\n",
      "7   POLARIS  SCRAMBLER 850  2020  SM-01503  2411092-432    <NA>    LENS ONLY\n",
      "8   POLARIS  SCRAMBLER 850  2021  SM-01503  2411092-432    <NA>    LENS ONLY\n",
      "9   POLARIS  SCRAMBLER 850  2022  SM-01503  2411092-432    <NA>    LENS ONLY\n",
      "10  POLARIS  SCRAMBLER 850  2023  SM-01503  2411092-432    <NA>    LENS ONLY\n"
     ]
    }
   ],
   "source": [
    "import pandas as pd\n",
    "\n",
    "# Define columns for the DataFrame\n",
    "columns = ['MAKE', 'MODEL', 'YEAR', 'MPN#', 'OEM', 'AD ITEM', 'VENDOR NOTES']\n",
    "\n",
    "# Create an empty DataFrame with defined columns\n",
    "df = pd.DataFrame(columns=columns)\n",
    "\n",
    "# Sample data to add for KITTY\n",
    "data_kitty = {\n",
    "    'MAKE': 'POLARIS',\n",
    "    'MODEL': 'SCRAMBLER 850',\n",
    "    'YEAR': '',\n",
    "    'MPN#': ['SM-01503'],  # Store multiple MPN# values as a list\n",
    "    'OEM': ['2411092-432'],  # Store multiple OEM# values as a list\n",
    "    'AD ITEM': pd.NA,\n",
    "    'VENDOR NOTES': 'LENS ONLY'\n",
    "}\n",
    "\n",
    "# Create a list to hold data dictionaries for each year\n",
    "data_list = []\n",
    "\n",
    "# Generate data for each year and add to the list\n",
    "for year in range(2013, 2024):\n",
    "    for mpn in data_kitty['MPN#']:  # Iterate over each MPN# value\n",
    "        for oem in data_kitty['OEM']:  # Iterate over each OEM# value\n",
    "            data_copy = data_kitty.copy()\n",
    "            data_copy['YEAR'] = year\n",
    "            data_copy['MPN#'] = mpn\n",
    "            data_copy['OEM'] = oem\n",
    "            data_list.append(data_copy)\n",
    "\n",
    "# Create DataFrame from the list of dictionaries\n",
    "df = pd.DataFrame(data_list)\n",
    "\n",
    "# Display the DataFrame\n",
    "print(df)"
   ]
  },
  {
   "cell_type": "code",
   "execution_count": 27,
   "id": "d1a99526-d0d4-436b-a007-c3fa7a7aa309",
   "metadata": {
    "tags": []
   },
   "outputs": [],
   "source": [
    "file_path = r\"C:\\Users\\User\\Desktop\\nachmann\\2024 TASK\\SECTION 01\\Taillight\\MERGE\\r132_1324.csv\"\n",
    "df.to_csv(file_path, index=False)"
   ]
  },
  {
   "cell_type": "code",
   "execution_count": 28,
   "id": "ee6cf46c-e2ee-4534-aa08-7c5c905d12ce",
   "metadata": {
    "tags": []
   },
   "outputs": [
    {
     "name": "stdout",
     "output_type": "stream",
     "text": [
      "      MAKE                      MODEL  YEAR      MPN#          OEM AD ITEM  \\\n",
      "0  POLARIS  SCRAMBLER 1000 HO/XP ALL0  2014  SM-01503  2411092-432    <NA>   \n",
      "1  POLARIS  SCRAMBLER 1000 HO/XP ALL0  2015  SM-01503  2411092-432    <NA>   \n",
      "2  POLARIS  SCRAMBLER 1000 HO/XP ALL0  2016  SM-01503  2411092-432    <NA>   \n",
      "3  POLARIS  SCRAMBLER 1000 HO/XP ALL0  2017  SM-01503  2411092-432    <NA>   \n",
      "4  POLARIS  SCRAMBLER 1000 HO/XP ALL0  2018  SM-01503  2411092-432    <NA>   \n",
      "5  POLARIS  SCRAMBLER 1000 HO/XP ALL0  2019  SM-01503  2411092-432    <NA>   \n",
      "6  POLARIS  SCRAMBLER 1000 HO/XP ALL0  2020  SM-01503  2411092-432    <NA>   \n",
      "7  POLARIS  SCRAMBLER 1000 HO/XP ALL0  2021  SM-01503  2411092-432    <NA>   \n",
      "8  POLARIS  SCRAMBLER 1000 HO/XP ALL0  2022  SM-01503  2411092-432    <NA>   \n",
      "9  POLARIS  SCRAMBLER 1000 HO/XP ALL0  2023  SM-01503  2411092-432    <NA>   \n",
      "\n",
      "  VENDOR NOTES  \n",
      "0    LENS ONLY  \n",
      "1    LENS ONLY  \n",
      "2    LENS ONLY  \n",
      "3    LENS ONLY  \n",
      "4    LENS ONLY  \n",
      "5    LENS ONLY  \n",
      "6    LENS ONLY  \n",
      "7    LENS ONLY  \n",
      "8    LENS ONLY  \n",
      "9    LENS ONLY  \n"
     ]
    }
   ],
   "source": [
    "import pandas as pd\n",
    "\n",
    "# Define columns for the DataFrame\n",
    "columns = ['MAKE', 'MODEL', 'YEAR', 'MPN#', 'OEM', 'AD ITEM', 'VENDOR NOTES']\n",
    "\n",
    "# Create an empty DataFrame with defined columns\n",
    "df = pd.DataFrame(columns=columns)\n",
    "\n",
    "# Sample data to add for KITTY\n",
    "data_kitty = {\n",
    "    'MAKE': 'POLARIS',\n",
    "    'MODEL': 'SCRAMBLER 1000 HO/XP ALL0',\n",
    "    'YEAR': '',\n",
    "    'MPN#': ['SM-01503'],  # Store multiple MPN# values as a list\n",
    "    'OEM': ['2411092-432'],  # Store multiple OEM# values as a list\n",
    "    'AD ITEM': pd.NA,\n",
    "    'VENDOR NOTES': 'LENS ONLY'\n",
    "}\n",
    "\n",
    "# Create a list to hold data dictionaries for each year\n",
    "data_list = []\n",
    "\n",
    "# Generate data for each year and add to the list\n",
    "for year in range(2014, 2024):\n",
    "    for mpn in data_kitty['MPN#']:  # Iterate over each MPN# value\n",
    "        for oem in data_kitty['OEM']:  # Iterate over each OEM# value\n",
    "            data_copy = data_kitty.copy()\n",
    "            data_copy['YEAR'] = year\n",
    "            data_copy['MPN#'] = mpn\n",
    "            data_copy['OEM'] = oem\n",
    "            data_list.append(data_copy)\n",
    "\n",
    "# Create DataFrame from the list of dictionaries\n",
    "df = pd.DataFrame(data_list)\n",
    "\n",
    "# Display the DataFrame\n",
    "print(df)"
   ]
  },
  {
   "cell_type": "code",
   "execution_count": 29,
   "id": "3c55c888-58b6-4c5e-9c96-60aa3aa592ea",
   "metadata": {
    "tags": []
   },
   "outputs": [],
   "source": [
    "file_path = r\"C:\\Users\\User\\Desktop\\nachmann\\2024 TASK\\SECTION 01\\Taillight\\MERGE\\r133_1424.csv\"\n",
    "df.to_csv(file_path, index=False)"
   ]
  },
  {
   "cell_type": "code",
   "execution_count": 30,
   "id": "d32b5c8c-b5db-49b1-99f0-4fec60cfaa2e",
   "metadata": {
    "tags": []
   },
   "outputs": [
    {
     "name": "stdout",
     "output_type": "stream",
     "text": [
      "  MAKE    MODEL  YEAR      MPN#          OEM AD ITEM VENDOR NOTES\n",
      "0  UTV  ACE 150  2017  SM-01503  2411092-432    <NA>    LENS ONLY\n",
      "1  UTV  ACE 150  2018  SM-01503  2411092-432    <NA>    LENS ONLY\n",
      "2  UTV  ACE 150  2019  SM-01503  2411092-432    <NA>    LENS ONLY\n",
      "3  UTV  ACE 150  2020  SM-01503  2411092-432    <NA>    LENS ONLY\n",
      "4  UTV  ACE 150  2021  SM-01503  2411092-432    <NA>    LENS ONLY\n"
     ]
    }
   ],
   "source": [
    "import pandas as pd\n",
    "\n",
    "# Define columns for the DataFrame\n",
    "columns = ['MAKE', 'MODEL', 'YEAR', 'MPN#', 'OEM', 'AD ITEM', 'VENDOR NOTES']\n",
    "\n",
    "# Create an empty DataFrame with defined columns\n",
    "df = pd.DataFrame(columns=columns)\n",
    "\n",
    "# Sample data to add for KITTY\n",
    "data_kitty = {\n",
    "    'MAKE': 'UTV',\n",
    "    'MODEL': 'ACE 150',\n",
    "    'YEAR': '',\n",
    "    'MPN#': ['SM-01503'],  # Store multiple MPN# values as a list\n",
    "    'OEM': ['2411092-432'],  # Store multiple OEM# values as a list\n",
    "    'AD ITEM': pd.NA,\n",
    "    'VENDOR NOTES': 'LENS ONLY'\n",
    "}\n",
    "\n",
    "# Create a list to hold data dictionaries for each year\n",
    "data_list = []\n",
    "\n",
    "# Generate data for each year and add to the list\n",
    "for year in range(2017, 2022):\n",
    "    for mpn in data_kitty['MPN#']:  # Iterate over each MPN# value\n",
    "        for oem in data_kitty['OEM']:  # Iterate over each OEM# value\n",
    "            data_copy = data_kitty.copy()\n",
    "            data_copy['YEAR'] = year\n",
    "            data_copy['MPN#'] = mpn\n",
    "            data_copy['OEM'] = oem\n",
    "            data_list.append(data_copy)\n",
    "\n",
    "# Create DataFrame from the list of dictionaries\n",
    "df = pd.DataFrame(data_list)\n",
    "\n",
    "# Display the DataFrame\n",
    "print(df)"
   ]
  },
  {
   "cell_type": "code",
   "execution_count": 31,
   "id": "2358a963-42db-4bc5-a515-0420d54199ef",
   "metadata": {
    "tags": []
   },
   "outputs": [],
   "source": [
    "file_path = r\"C:\\Users\\User\\Desktop\\nachmann\\2024 TASK\\SECTION 01\\Taillight\\MERGE\\r134_1722.csv\"\n",
    "df.to_csv(file_path, index=False)"
   ]
  },
  {
   "cell_type": "code",
   "execution_count": 34,
   "id": "9f6d9a3d-da92-4bb0-a4c4-94f9869d0127",
   "metadata": {
    "tags": []
   },
   "outputs": [
    {
     "name": "stdout",
     "output_type": "stream",
     "text": [
      "  MAKE               MODEL  YEAR      MPN#      OEM AD ITEM VENDOR NOTES\n",
      "0  UTV  RANGER 4X4 500 EFI  2009  SM-01252  2411099    <NA>     ASSEMBLY\n",
      "1  UTV  RANGER 4X4 500 EFI  2010  SM-01252  2411099    <NA>     ASSEMBLY\n"
     ]
    }
   ],
   "source": [
    "import pandas as pd\n",
    "\n",
    "# Define columns for the DataFrame\n",
    "columns = ['MAKE', 'MODEL', 'YEAR', 'MPN#', 'OEM', 'AD ITEM', 'VENDOR NOTES']\n",
    "\n",
    "# Create an empty DataFrame with defined columns\n",
    "df = pd.DataFrame(columns=columns)\n",
    "\n",
    "# Sample data to add for KITTY\n",
    "data_kitty = {\n",
    "    'MAKE': 'UTV',\n",
    "    'MODEL': 'RANGER 4X4 500 EFI',\n",
    "    'YEAR': '',\n",
    "    'MPN#': ['SM-01252'],  # Store multiple MPN# values as a list\n",
    "    'OEM': ['2411099'],  # Store multiple OEM# values as a list\n",
    "    'AD ITEM': pd.NA,\n",
    "    'VENDOR NOTES': 'ASSEMBLY'\n",
    "}\n",
    "\n",
    "# Create a list to hold data dictionaries for each year\n",
    "data_list = []\n",
    "\n",
    "# Generate data for each year and add to the list\n",
    "for year in range(2009, 2011):\n",
    "    for mpn in data_kitty['MPN#']:  # Iterate over each MPN# value\n",
    "        for oem in data_kitty['OEM']:  # Iterate over each OEM# value\n",
    "            data_copy = data_kitty.copy()\n",
    "            data_copy['YEAR'] = year\n",
    "            data_copy['MPN#'] = mpn\n",
    "            data_copy['OEM'] = oem\n",
    "            data_list.append(data_copy)\n",
    "\n",
    "# Create DataFrame from the list of dictionaries\n",
    "df = pd.DataFrame(data_list)\n",
    "\n",
    "# Display the DataFrame\n",
    "print(df)"
   ]
  },
  {
   "cell_type": "code",
   "execution_count": 35,
   "id": "17f44137-8b13-4049-bbfb-dce940558858",
   "metadata": {
    "tags": []
   },
   "outputs": [],
   "source": [
    "file_path = r\"C:\\Users\\User\\Desktop\\nachmann\\2024 TASK\\SECTION 01\\Taillight\\MERGE\\r136_1722.csv\"\n",
    "df.to_csv(file_path, index=False)"
   ]
  },
  {
   "cell_type": "code",
   "execution_count": null,
   "id": "4fd77b70-1351-4fca-a3be-66d6c04652c2",
   "metadata": {},
   "outputs": [],
   "source": []
  }
 ],
 "metadata": {
  "kernelspec": {
   "display_name": "Python 3 (ipykernel)",
   "language": "python",
   "name": "python3"
  },
  "language_info": {
   "codemirror_mode": {
    "name": "ipython",
    "version": 3
   },
   "file_extension": ".py",
   "mimetype": "text/x-python",
   "name": "python",
   "nbconvert_exporter": "python",
   "pygments_lexer": "ipython3",
   "version": "3.11.4"
  }
 },
 "nbformat": 4,
 "nbformat_minor": 5
}
